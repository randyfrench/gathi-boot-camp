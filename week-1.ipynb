{
 "cells": [
  {
   "cell_type": "markdown",
   "id": "65cee4d3-fc20-4e98-adeb-bb0ed6dd93e4",
   "metadata": {},
   "source": [
    "### Data Fundamentals & DWH Concepts"
   ]
  },
  {
   "cell_type": "code",
   "execution_count": null,
   "id": "dc1233a8-de08-478e-91ce-104561b292d0",
   "metadata": {},
   "outputs": [],
   "source": []
  }
 ],
 "metadata": {
  "kernelspec": {
   "display_name": "Python 3",
   "language": "python",
   "name": "python3"
  },
  "language_info": {
   "codemirror_mode": {
    "name": "ipython",
    "version": 3
   },
   "file_extension": ".py",
   "mimetype": "text/x-python",
   "name": "python",
   "nbconvert_exporter": "python",
   "pygments_lexer": "ipython3",
   "version": "3.8.8"
  }
 },
 "nbformat": 4,
 "nbformat_minor": 5
}
