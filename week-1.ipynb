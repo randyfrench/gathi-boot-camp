{
 "cells": [
  {
   "cell_type": "markdown",
   "id": "65cee4d3-fc20-4e98-adeb-bb0ed6dd93e4",
   "metadata": {},
   "source": [
    "## Data Fundamentals & DWH Concepts"
   ]
  },
  {
   "cell_type": "markdown",
   "id": "b118c03b-a19e-474f-a804-c45816e19c89",
   "metadata": {},
   "source": [
    "#### 4-19-22 Was able to get Gathi email setup to get access to Udemy and other applications. Added to WhatsApp group chat. Started the Data Warehouse Fundamentals for Beginners Udemy course. "
   ]
  },
  {
   "cell_type": "markdown",
   "id": "1e940a73-7c94-4711-962a-dc3361b052a1",
   "metadata": {},
   "source": [
    "#### 4-20-22 Completed \"Data Warehouse Fundamentals for Beginners\" - Started \"Mastering Data Modeling Fundamentals"
   ]
  },
  {
   "cell_type": "code",
   "execution_count": null,
   "id": "e0fd8cab-9ba9-48d1-a0c5-f3017515858a",
   "metadata": {},
   "outputs": [],
   "source": []
  }
 ],
 "metadata": {
  "kernelspec": {
   "display_name": "Python 3",
   "language": "python",
   "name": "python3"
  },
  "language_info": {
   "codemirror_mode": {
    "name": "ipython",
    "version": 3
   },
   "file_extension": ".py",
   "mimetype": "text/x-python",
   "name": "python",
   "nbconvert_exporter": "python",
   "pygments_lexer": "ipython3",
   "version": "3.8.8"
  }
 },
 "nbformat": 4,
 "nbformat_minor": 5
}
