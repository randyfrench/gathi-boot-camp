{
 "cells": [
  {
   "cell_type": "markdown",
   "id": "6671c0b6-148f-45d1-a470-824a5b021a89",
   "metadata": {},
   "source": [
    "## Python Complete Masterclass for Beginners"
   ]
  },
  {
   "cell_type": "markdown",
   "id": "fdc0c48c-f005-4a26-9c7a-8016a643fcb2",
   "metadata": {},
   "source": [
    "### Strings"
   ]
  },
  {
   "cell_type": "code",
   "execution_count": null,
   "id": "2e799e63-fc21-4aab-aaff-870690352771",
   "metadata": {},
   "outputs": [],
   "source": []
  },
  {
   "cell_type": "code",
   "execution_count": null,
   "id": "f3bfa099-bacb-4847-92a6-c5ab2f78dc71",
   "metadata": {
    "tags": []
   },
   "outputs": [],
   "source": [
    "my_string = 'this is my first string'\n"
   ]
  },
  {
   "cell_type": "code",
   "execution_count": null,
   "id": "1fb7cb2e-58c9-4487-8b72-af6cb8ae1d86",
   "metadata": {},
   "outputs": [],
   "source": [
    "my_string\n"
   ]
  },
  {
   "cell_type": "code",
   "execution_count": null,
   "id": "d5f92102-a4d5-47b9-8fb2-d60f204d5283",
   "metadata": {},
   "outputs": [],
   "source": [
    "my_string = \"this is my second string\"\n"
   ]
  },
  {
   "cell_type": "code",
   "execution_count": null,
   "id": "66fd32df-e5e9-411d-b3b9-7b55cdee27b7",
   "metadata": {},
   "outputs": [],
   "source": [
    "my_string\n"
   ]
  },
  {
   "cell_type": "code",
   "execution_count": null,
   "id": "fe9863a5-9591-46f2-a0c3-6c0d5e61b8f6",
   "metadata": {},
   "outputs": [],
   "source": [
    "my_string = ''' this\n",
    "is\n",
    "my\n",
    "third\n",
    "string'''\n"
   ]
  },
  {
   "cell_type": "code",
   "execution_count": null,
   "id": "cee46462-fefe-4577-a456-1fb5cf30b64d",
   "metadata": {},
   "outputs": [],
   "source": [
    "my_string\n"
   ]
  },
  {
   "cell_type": "code",
   "execution_count": null,
   "id": "373f843b-ffac-43ca-9c1e-54ca38109c8a",
   "metadata": {},
   "outputs": [],
   "source": [
    "my_string = ''' this\\\n",
    "is\\\n",
    "my\\\n",
    "third\\\n",
    "string'''\n"
   ]
  },
  {
   "cell_type": "code",
   "execution_count": null,
   "id": "196f9abb-e497-4b86-9139-3dc48aee6ba2",
   "metadata": {},
   "outputs": [],
   "source": [
    "my_string\n"
   ]
  },
  {
   "cell_type": "code",
   "execution_count": null,
   "id": "c1d84384-13c1-4c17-b710-a6aed3977d68",
   "metadata": {},
   "outputs": [],
   "source": [
    "string1 = \"Cisco Router\"\n"
   ]
  },
  {
   "cell_type": "code",
   "execution_count": null,
   "id": "7ccf49ef-12bc-4539-948f-889272156a80",
   "metadata": {},
   "outputs": [],
   "source": [
    "string1[0]"
   ]
  },
  {
   "cell_type": "code",
   "execution_count": null,
   "id": "cf1dec97-1897-4679-8666-31e0e16aff58",
   "metadata": {},
   "outputs": [],
   "source": [
    "string1[2]"
   ]
  },
  {
   "cell_type": "code",
   "execution_count": null,
   "id": "a38e6a78-c90f-47db-b63f-98a942aa0b62",
   "metadata": {},
   "outputs": [],
   "source": [
    "string1[5]"
   ]
  },
  {
   "cell_type": "code",
   "execution_count": null,
   "id": "bfa1191a-742b-471b-9d0c-b4f1b5160a0f",
   "metadata": {},
   "outputs": [],
   "source": [
    "string1[-1]"
   ]
  },
  {
   "cell_type": "code",
   "execution_count": null,
   "id": "49c4617e-7e07-41cc-8a9b-7091106660cd",
   "metadata": {},
   "outputs": [],
   "source": [
    "string1[-4]"
   ]
  },
  {
   "cell_type": "code",
   "execution_count": null,
   "id": "09f1f0ef-7672-49a8-933e-18a944a3dbfd",
   "metadata": {},
   "outputs": [],
   "source": [
    "len(string1)"
   ]
  },
  {
   "cell_type": "code",
   "execution_count": null,
   "id": "8169e535-de95-43ff-9c98-aaf4fb5d6bc5",
   "metadata": {},
   "outputs": [],
   "source": [
    "string1[15]"
   ]
  },
  {
   "cell_type": "markdown",
   "id": "0e068b47-f47f-4fa6-9bd6-ebc335162a08",
   "metadata": {},
   "source": [
    "### Methods"
   ]
  },
  {
   "cell_type": "code",
   "execution_count": null,
   "id": "4dbbe238-47ea-4ed0-8c5a-842fff3ed476",
   "metadata": {},
   "outputs": [],
   "source": [
    "a = \"Cisco Switch\""
   ]
  },
  {
   "cell_type": "code",
   "execution_count": null,
   "id": "bab0d643-c2c2-46c6-b619-a89f061790e1",
   "metadata": {},
   "outputs": [],
   "source": [
    "a.index(\"i\")"
   ]
  },
  {
   "cell_type": "code",
   "execution_count": null,
   "id": "d3b4d9d4-f70c-4180-8d5a-616ed6ff9eca",
   "metadata": {},
   "outputs": [],
   "source": [
    "a.count(\"i\")"
   ]
  },
  {
   "cell_type": "code",
   "execution_count": null,
   "id": "017bae74-d0ec-44f9-ad0a-0da6466574f5",
   "metadata": {},
   "outputs": [],
   "source": [
    "a.find(\"sco\")"
   ]
  },
  {
   "cell_type": "code",
   "execution_count": null,
   "id": "82a3ead3-12a2-4d9a-b74c-ff15302c8a7e",
   "metadata": {},
   "outputs": [],
   "source": [
    "a.find(\"xyz\")"
   ]
  },
  {
   "cell_type": "code",
   "execution_count": null,
   "id": "a5d70ca5-9a12-46cd-ac6d-b55eb3bca5ff",
   "metadata": {},
   "outputs": [],
   "source": [
    "a.lower()"
   ]
  },
  {
   "cell_type": "code",
   "execution_count": null,
   "id": "6ad6d3aa-7635-43d4-8c06-ffbe68d49032",
   "metadata": {},
   "outputs": [],
   "source": [
    "a.upper()"
   ]
  },
  {
   "cell_type": "code",
   "execution_count": null,
   "id": "784eb617-3870-4f91-bba0-4955b64fcd1c",
   "metadata": {},
   "outputs": [],
   "source": [
    "# orginal variable is still the same\n",
    "a"
   ]
  },
  {
   "cell_type": "code",
   "execution_count": null,
   "id": "cd059fad-4150-4259-a1d4-314ab6cdc74a",
   "metadata": {},
   "outputs": [],
   "source": [
    "a.startswith(\"C\")"
   ]
  },
  {
   "cell_type": "code",
   "execution_count": null,
   "id": "d650a948-9789-41c8-a11c-b2b4a083c491",
   "metadata": {},
   "outputs": [],
   "source": [
    "a.endswith('h')"
   ]
  },
  {
   "cell_type": "code",
   "execution_count": null,
   "id": "096500c2-21c0-4436-823a-d9b67ade7217",
   "metadata": {},
   "outputs": [],
   "source": [
    "a.endswith(\"q\")"
   ]
  },
  {
   "cell_type": "code",
   "execution_count": null,
   "id": "194d41ce-7c4a-4398-b0fa-0ab73f92ee19",
   "metadata": {},
   "outputs": [],
   "source": [
    "b = \"     Cisco Switch    \""
   ]
  },
  {
   "cell_type": "code",
   "execution_count": null,
   "id": "6c0e6feb-0bdc-4084-9e7b-f3bae634cd36",
   "metadata": {},
   "outputs": [],
   "source": [
    "b.strip()"
   ]
  },
  {
   "cell_type": "code",
   "execution_count": null,
   "id": "39c5f4ff-c58a-4fca-b8e6-5f162aa8bb23",
   "metadata": {},
   "outputs": [],
   "source": [
    "c = \"$$$ Cisco Switch$$$\""
   ]
  },
  {
   "cell_type": "code",
   "execution_count": null,
   "id": "77e1d90c-2517-420c-ad12-d07299df1dbc",
   "metadata": {},
   "outputs": [],
   "source": [
    "c.strip(\"$\")"
   ]
  },
  {
   "cell_type": "code",
   "execution_count": null,
   "id": "9cea95cb-5f14-4e70-b03c-5ed352879c73",
   "metadata": {},
   "outputs": [],
   "source": [
    "b"
   ]
  },
  {
   "cell_type": "code",
   "execution_count": null,
   "id": "741432b2-4624-4efb-b316-9a1a2d56a2f2",
   "metadata": {},
   "outputs": [],
   "source": [
    "b.replace(\" \", \"\")"
   ]
  },
  {
   "cell_type": "code",
   "execution_count": null,
   "id": "7912623c-9abe-4c55-a740-d02834208015",
   "metadata": {},
   "outputs": [],
   "source": [
    "d = \"Cisco,Juniper,HP,Avaya,Nortel\""
   ]
  },
  {
   "cell_type": "code",
   "execution_count": null,
   "id": "ae8d2d36-0a7a-4ced-b37b-21cce1e0d6c2",
   "metadata": {},
   "outputs": [],
   "source": [
    "d.split(\",\")\n"
   ]
  },
  {
   "cell_type": "code",
   "execution_count": null,
   "id": "5b3cf835-e9c2-4d2f-8708-f4c99b8cc54d",
   "metadata": {},
   "outputs": [],
   "source": [
    "\"_\".join(a)\n"
   ]
  },
  {
   "cell_type": "markdown",
   "id": "f2ba085b-43bf-4d60-ad11-37dba0c8891f",
   "metadata": {},
   "source": [
    "### Operators & Formatting"
   ]
  },
  {
   "cell_type": "code",
   "execution_count": null,
   "id": "946af8a8-6f9e-4e47-8962-9ab82d086cf4",
   "metadata": {},
   "outputs": [],
   "source": [
    "x = \"Cisco\"\n"
   ]
  },
  {
   "cell_type": "code",
   "execution_count": null,
   "id": "7f6e7d8f-6731-4fbb-ad4b-c27c92ce923b",
   "metadata": {},
   "outputs": [],
   "source": [
    "y = \" Switch\"\n"
   ]
  },
  {
   "cell_type": "code",
   "execution_count": null,
   "id": "769324ac-f7e5-47e3-97ac-e20052aecf35",
   "metadata": {},
   "outputs": [],
   "source": [
    "x + y\n"
   ]
  },
  {
   "cell_type": "code",
   "execution_count": null,
   "id": "333fc436-2c6c-4b55-8ed7-4927d2f16a77",
   "metadata": {},
   "outputs": [],
   "source": [
    "x * 3\n"
   ]
  },
  {
   "cell_type": "code",
   "execution_count": null,
   "id": "49d8a9d2-e066-44a6-b662-0aaa2b0d5958",
   "metadata": {},
   "outputs": [],
   "source": [
    "\"o\" in x\n"
   ]
  },
  {
   "cell_type": "code",
   "execution_count": null,
   "id": "ca03e298-4d2d-4afa-88e5-7e63239d861a",
   "metadata": {},
   "outputs": [],
   "source": [
    "\"b\" in x"
   ]
  },
  {
   "cell_type": "code",
   "execution_count": null,
   "id": "430a682a-a734-4379-8a64-6cbb898591ef",
   "metadata": {},
   "outputs": [],
   "source": [
    "\"b\" not in x"
   ]
  },
  {
   "cell_type": "code",
   "execution_count": null,
   "id": "f9642046-fa05-401d-9925-b424f0d2ab3f",
   "metadata": {},
   "outputs": [],
   "source": [
    "\"Cisco model: %s, %d 2 WAN slots, IOS %f\" % (\"2600XM\", 2, 12.4)"
   ]
  },
  {
   "cell_type": "code",
   "execution_count": null,
   "id": "eb0993b4-96c5-4d0e-bf98-91711a1131c9",
   "metadata": {},
   "outputs": [],
   "source": [
    "\"Cisco model: {},  {} WAN slots, IOS {}\".format(\"2600XM\", 2, 12.4)"
   ]
  },
  {
   "cell_type": "code",
   "execution_count": null,
   "id": "c1f5bea9-9123-454b-96e7-cc77edfbea1a",
   "metadata": {},
   "outputs": [],
   "source": [
    "\"Cisco model: {0},  {1} WAN slots, IOS {2}\".format(\"2600XM\", 2, 12.4)"
   ]
  },
  {
   "cell_type": "code",
   "execution_count": null,
   "id": "e68262e3-66d6-4358-b1a2-265b3e43d410",
   "metadata": {},
   "outputs": [],
   "source": [
    "\"Cisco model: {2},  {0} WAN slots, IOS {1}\".format(\"2600XM\", 2, 12.4)"
   ]
  },
  {
   "cell_type": "code",
   "execution_count": null,
   "id": "c68ee1c8-05ca-407c-8fee-10f995f4ea3f",
   "metadata": {},
   "outputs": [],
   "source": [
    "\"Cisco model: {2},  {1} WAN slots, IOS {2}\".format(\"2600XM\", 2, 12.4)"
   ]
  },
  {
   "cell_type": "code",
   "execution_count": null,
   "id": "f7402ed3-2b38-4b47-8962-bc1d3a58fe37",
   "metadata": {},
   "outputs": [],
   "source": [
    "# changing the position of the {} changes the position where it will be listed when called.\n",
    "\"Cisco model: {},  WAN slots {}, IOS {}\".format(\"2600XM\", 2, 12.4)"
   ]
  },
  {
   "cell_type": "code",
   "execution_count": null,
   "id": "dc37de68-03a6-457b-936a-44401ab1ec02",
   "metadata": {},
   "outputs": [],
   "source": [
    "\"Cisco model: {1},  {0} WAN slots, IOS {1}\".format(\"2600XM\", 2, 12.4)"
   ]
  },
  {
   "cell_type": "markdown",
   "id": "b7ece0f6-cd2d-443f-b5fa-9441fab3c3ae",
   "metadata": {},
   "source": [
    "### Formatting Using F-strings"
   ]
  },
  {
   "cell_type": "code",
   "execution_count": null,
   "id": "af0d3405-1a67-4f11-81b4-7d3d3883a08c",
   "metadata": {},
   "outputs": [],
   "source": [
    "model = \"2600XM\""
   ]
  },
  {
   "cell_type": "code",
   "execution_count": null,
   "id": "7f480b4c-2a4e-4f9d-be94-ff056b578672",
   "metadata": {},
   "outputs": [],
   "source": [
    "slots = 4"
   ]
  },
  {
   "cell_type": "code",
   "execution_count": null,
   "id": "d546af89-e312-47b5-856e-fc4c716b7f73",
   "metadata": {},
   "outputs": [],
   "source": [
    "ios = 12.3"
   ]
  },
  {
   "cell_type": "code",
   "execution_count": null,
   "id": "d98d8374-184d-4863-8199-73f067f9a39d",
   "metadata": {},
   "outputs": [],
   "source": [
    "f\"Cisco model: {model}, {slots} WAN slots, IOS {ios}\""
   ]
  },
  {
   "cell_type": "code",
   "execution_count": null,
   "id": "3ba3d1a0-f4e8-4dfd-951f-dfa8ef592afb",
   "metadata": {},
   "outputs": [],
   "source": [
    "f\"Cisco model: {model}, {slots * 2} WAN slots, IOS {ios}\""
   ]
  },
  {
   "cell_type": "code",
   "execution_count": null,
   "id": "60972c92-6081-4c7a-b160-6337052b4604",
   "metadata": {},
   "outputs": [],
   "source": [
    "f\"Cisco model: {model.lower()}, {slots} WAN slots, IOS {ios}\""
   ]
  },
  {
   "cell_type": "markdown",
   "id": "29e40287-5dc8-488c-b939-a38a42ba6229",
   "metadata": {},
   "source": [
    "### Slices"
   ]
  },
  {
   "cell_type": "code",
   "execution_count": null,
   "id": "cc3d5047-c42c-4062-8879-a3cd41b1dadd",
   "metadata": {},
   "outputs": [],
   "source": [
    "string1 = \"O E2 10.110.8.9 [160/5] via 10.119.254.6, 0:01:00, Ethernet2\""
   ]
  },
  {
   "cell_type": "code",
   "execution_count": null,
   "id": "c4e7e419-99c0-4ad1-baa1-268ddd4a9bbf",
   "metadata": {},
   "outputs": [],
   "source": [
    "string1[5: 15]"
   ]
  },
  {
   "cell_type": "code",
   "execution_count": null,
   "id": "da9bc48e-2aa8-4228-b86d-14fa0ae979ed",
   "metadata": {},
   "outputs": [],
   "source": [
    "string1[5:]"
   ]
  },
  {
   "cell_type": "code",
   "execution_count": null,
   "id": "1389721a-bbd9-4794-9111-94a0b1957cb6",
   "metadata": {},
   "outputs": [],
   "source": [
    "string1[:10]"
   ]
  },
  {
   "cell_type": "code",
   "execution_count": null,
   "id": "521c0b0c-4f5e-4917-9a9e-dd83d303d721",
   "metadata": {},
   "outputs": [],
   "source": [
    "string1[:]"
   ]
  },
  {
   "cell_type": "code",
   "execution_count": null,
   "id": "c4ef18da-3e4a-4fdb-a9b5-47d8dc889b57",
   "metadata": {},
   "outputs": [],
   "source": [
    "string1[-1]"
   ]
  },
  {
   "cell_type": "code",
   "execution_count": null,
   "id": "912807a0-f050-40a5-8a40-bcbae1570526",
   "metadata": {},
   "outputs": [],
   "source": [
    "# get Ethernet\n",
    "string1[-9:-1]"
   ]
  },
  {
   "cell_type": "code",
   "execution_count": null,
   "id": "b9919d64-f6e5-4492-a8a6-c537b3f9bb79",
   "metadata": {},
   "outputs": [],
   "source": [
    "string1[-5:]"
   ]
  },
  {
   "cell_type": "code",
   "execution_count": null,
   "id": "251a8bfb-930c-4265-8ab4-529bf4e1cdb0",
   "metadata": {},
   "outputs": [],
   "source": [
    "string1[:-5]"
   ]
  },
  {
   "cell_type": "code",
   "execution_count": null,
   "id": "7fbd15cd-ddd0-4f09-a98f-4110bf172dcc",
   "metadata": {},
   "outputs": [],
   "source": [
    "# to get a step\n",
    "string1[::2]"
   ]
  },
  {
   "cell_type": "code",
   "execution_count": null,
   "id": "4281be1c-667e-4b79-9f98-cf74c0ebe50d",
   "metadata": {},
   "outputs": [],
   "source": [
    "# get in reverse order\n",
    "string1[::-1]"
   ]
  },
  {
   "cell_type": "markdown",
   "id": "d5695201-b478-4572-be04-869d4e8797fe",
   "metadata": {},
   "source": [
    "### Slicing Using a Step"
   ]
  },
  {
   "cell_type": "code",
   "execution_count": null,
   "id": "7923e5eb-01c8-4f44-bfbc-79a6aa188347",
   "metadata": {},
   "outputs": [],
   "source": [
    "mystring = \"0123456789\"\n"
   ]
  },
  {
   "cell_type": "code",
   "execution_count": null,
   "id": "a90748e2-d380-4a5a-89ab-60e0543b452f",
   "metadata": {},
   "outputs": [],
   "source": [
    "mystring[0]\n"
   ]
  },
  {
   "cell_type": "code",
   "execution_count": null,
   "id": "b0123a76-f2c1-41fa-888b-2144336709a2",
   "metadata": {},
   "outputs": [],
   "source": [
    "mystring[1]\n"
   ]
  },
  {
   "cell_type": "code",
   "execution_count": null,
   "id": "197fc474-280f-4c4a-b4cb-ea423fff3a14",
   "metadata": {},
   "outputs": [],
   "source": [
    "mystring[9]\n"
   ]
  },
  {
   "cell_type": "code",
   "execution_count": null,
   "id": "4e972bee-1209-49e3-a92e-bb3d124f10b5",
   "metadata": {},
   "outputs": [],
   "source": [
    "# mystring[start: stop: step]\n",
    "# to get the even numbers from the string\n",
    "mystring[::2]"
   ]
  },
  {
   "cell_type": "code",
   "execution_count": null,
   "id": "bb40775f-402d-4467-abef-2e879989a12d",
   "metadata": {},
   "outputs": [],
   "source": [
    "# to get the odd numbers\n",
    "mystring[1::2]"
   ]
  },
  {
   "cell_type": "code",
   "execution_count": null,
   "id": "7ee3e5ef-0286-4336-9809-e628a0d89728",
   "metadata": {},
   "outputs": [],
   "source": [
    "# odd numbers less than 7\n",
    "mystring[1:7:2]"
   ]
  },
  {
   "cell_type": "code",
   "execution_count": null,
   "id": "9ae3ad0f-f4ed-400c-8c1a-46bebe486734",
   "metadata": {},
   "outputs": [],
   "source": [
    "my_string = \"a0:12:90:00:80:43\""
   ]
  },
  {
   "cell_type": "code",
   "execution_count": null,
   "id": "9bda3618-7d84-4b25-b14d-f102b9ae0cd2",
   "metadata": {},
   "outputs": [],
   "source": [
    "print(my_string.split(':'))"
   ]
  },
  {
   "cell_type": "markdown",
   "id": "6dd5170f-d49d-4b53-8432-aa25baca70d9",
   "metadata": {},
   "source": [
    "### Math Operators"
   ]
  },
  {
   "cell_type": "code",
   "execution_count": null,
   "id": "6cf42da1-f74d-48d5-81f9-30c4007a70af",
   "metadata": {},
   "outputs": [],
   "source": [
    "type(num2)"
   ]
  },
  {
   "cell_type": "code",
   "execution_count": null,
   "id": "bee1deb3-26ce-4cba-b6a7-dcca911f03e3",
   "metadata": {},
   "outputs": [],
   "source": [
    "1 + 2"
   ]
  },
  {
   "cell_type": "code",
   "execution_count": null,
   "id": "08c2924e-7269-4cf6-b075-3f20fb135ebe",
   "metadata": {},
   "outputs": [],
   "source": [
    "num1 + num2"
   ]
  },
  {
   "cell_type": "code",
   "execution_count": null,
   "id": "95134627-29ea-47fe-af84-b9581ef7dd74",
   "metadata": {},
   "outputs": [],
   "source": [
    "2 - 1 "
   ]
  },
  {
   "cell_type": "code",
   "execution_count": null,
   "id": "c7903f48-bc37-4604-a4ef-3f51532b9efd",
   "metadata": {},
   "outputs": [],
   "source": [
    "5 / 2"
   ]
  },
  {
   "cell_type": "code",
   "execution_count": null,
   "id": "cbf954c5-4300-4f25-8ed5-f059dfd80717",
   "metadata": {},
   "outputs": [],
   "source": [
    "4 * 2"
   ]
  },
  {
   "cell_type": "code",
   "execution_count": null,
   "id": "c0c663fe-0467-4a85-8240-c6990031bc42",
   "metadata": {},
   "outputs": [],
   "source": [
    "4 ** 2"
   ]
  },
  {
   "cell_type": "code",
   "execution_count": null,
   "id": "8414c5e9-58ae-4269-8292-a69f7f91be4f",
   "metadata": {},
   "outputs": [],
   "source": [
    "5 % 2"
   ]
  },
  {
   "cell_type": "code",
   "execution_count": null,
   "id": "5ef426e0-36ed-40a6-89e7-0fb445e7714d",
   "metadata": {},
   "outputs": [],
   "source": [
    "4 < 5"
   ]
  },
  {
   "cell_type": "code",
   "execution_count": null,
   "id": "d8d2b327-7a54-4d0c-afc3-8947139cdc87",
   "metadata": {},
   "outputs": [],
   "source": [
    "5 > 4"
   ]
  },
  {
   "cell_type": "code",
   "execution_count": null,
   "id": "85817587-62ff-41ce-8e40-bdeb9044d86c",
   "metadata": {},
   "outputs": [],
   "source": [
    "4 <= 5"
   ]
  },
  {
   "cell_type": "code",
   "execution_count": null,
   "id": "a70dbf72-4c29-454c-9dcf-436a2b0021da",
   "metadata": {},
   "outputs": [],
   "source": [
    "5 >= 4"
   ]
  },
  {
   "cell_type": "code",
   "execution_count": null,
   "id": "5114c4c6-71eb-4b0f-8e3c-7e6aa336ff0e",
   "metadata": {},
   "outputs": [],
   "source": [
    "5 == 5"
   ]
  },
  {
   "cell_type": "code",
   "execution_count": null,
   "id": "ace3c984-d173-482d-b0c6-26798f73039c",
   "metadata": {},
   "outputs": [],
   "source": [
    "4 != 5"
   ]
  },
  {
   "cell_type": "code",
   "execution_count": null,
   "id": "3b3c20a7-7413-49e1-ac22-011121707f2a",
   "metadata": {},
   "outputs": [],
   "source": [
    "100 - 5 ** 2 / 5 * 2"
   ]
  },
  {
   "cell_type": "code",
   "execution_count": null,
   "id": "0090e89a-a550-42d9-bf01-6a2554ea6181",
   "metadata": {},
   "outputs": [],
   "source": [
    "# convert an interger to a float\n",
    "int(1.7)"
   ]
  },
  {
   "cell_type": "code",
   "execution_count": null,
   "id": "7389c044-9f58-471a-bf3d-61eb7c872e86",
   "metadata": {},
   "outputs": [],
   "source": [
    "float(2)"
   ]
  },
  {
   "cell_type": "code",
   "execution_count": null,
   "id": "f3a4a7aa-3265-4fae-a5f8-6b066ab38945",
   "metadata": {},
   "outputs": [],
   "source": [
    "abs(5)"
   ]
  },
  {
   "cell_type": "code",
   "execution_count": null,
   "id": "49ff34c3-89b6-4ba2-ab01-a28c26836e44",
   "metadata": {},
   "outputs": [],
   "source": [
    "abs(-5)"
   ]
  },
  {
   "cell_type": "code",
   "execution_count": null,
   "id": "98440ec5-b0f0-46fd-b395-7d3ab39b67e4",
   "metadata": {},
   "outputs": [],
   "source": [
    "max(1,2)"
   ]
  },
  {
   "cell_type": "code",
   "execution_count": null,
   "id": "f7a24d25-5e71-4a63-8809-1a3e7fe0f556",
   "metadata": {},
   "outputs": [],
   "source": [
    "min(1,2)"
   ]
  },
  {
   "cell_type": "code",
   "execution_count": null,
   "id": "b40ab2dc-f9ba-4ed9-90be-df586623be58",
   "metadata": {},
   "outputs": [],
   "source": [
    "pow(3, 2)"
   ]
  },
  {
   "cell_type": "code",
   "execution_count": null,
   "id": "fde09c27-a140-4224-8604-800eabf50bc5",
   "metadata": {},
   "outputs": [],
   "source": [
    "30 % 8"
   ]
  },
  {
   "cell_type": "code",
   "execution_count": null,
   "id": "a973666a-0809-4078-9caa-91065e61bc3b",
   "metadata": {},
   "outputs": [],
   "source": [
    "50 / 15"
   ]
  },
  {
   "cell_type": "code",
   "execution_count": null,
   "id": "c95c02ca-3778-460e-a32f-ddd9a86a9531",
   "metadata": {},
   "outputs": [],
   "source": [
    "# Using // means performing integer division in Python 3, which indeed returns the integer part of\n",
    "# the result\n",
    "50 // 15"
   ]
  },
  {
   "cell_type": "code",
   "execution_count": null,
   "id": "49e87adb-624b-4613-b414-54600dbd2468",
   "metadata": {},
   "outputs": [],
   "source": [
    "print(pow(5,3))"
   ]
  },
  {
   "cell_type": "code",
   "execution_count": null,
   "id": "26c62fe5-20b5-4e9a-8488-8dfbb90d69a1",
   "metadata": {},
   "outputs": [],
   "source": [
    "print(5 ** 3)"
   ]
  },
  {
   "cell_type": "markdown",
   "id": "82dee447-58db-48e8-9fbf-27085402750e",
   "metadata": {},
   "source": [
    "### Booleans - Logical Operators"
   ]
  },
  {
   "cell_type": "code",
   "execution_count": null,
   "id": "763b449c-8296-4ec6-85f9-a7a4c94ebc56",
   "metadata": {},
   "outputs": [],
   "source": [
    "# True - False is how these are written\n",
    "1 == 1"
   ]
  },
  {
   "cell_type": "code",
   "execution_count": null,
   "id": "ccbad75f-8ecf-4d41-b7a8-8224bf29d843",
   "metadata": {},
   "outputs": [],
   "source": [
    "1 == 2"
   ]
  },
  {
   "cell_type": "code",
   "execution_count": null,
   "id": "9325f23f-ed3a-4197-98e0-6a6860ac74f3",
   "metadata": {},
   "outputs": [],
   "source": [
    "\"python\" == \"python\""
   ]
  },
  {
   "cell_type": "code",
   "execution_count": null,
   "id": "e024e092-72cf-488e-9d83-a5a07d792919",
   "metadata": {},
   "outputs": [],
   "source": [
    "\"python\" == \"Python\""
   ]
  },
  {
   "cell_type": "code",
   "execution_count": null,
   "id": "eb1ee691-71a7-4db1-8094-f2fb6d0b8445",
   "metadata": {},
   "outputs": [],
   "source": [
    "3 <= 4"
   ]
  },
  {
   "cell_type": "code",
   "execution_count": null,
   "id": "e29999d1-91e6-4f8a-a6ad-92dc7e6596bf",
   "metadata": {},
   "outputs": [],
   "source": [
    "(1 == 1) and (2 == 2)"
   ]
  },
  {
   "cell_type": "code",
   "execution_count": null,
   "id": "7e8e10e6-1469-4540-9270-6eb2ebbeee2e",
   "metadata": {},
   "outputs": [],
   "source": [
    "(1 == 2) and ( 3 == 2)"
   ]
  },
  {
   "cell_type": "code",
   "execution_count": null,
   "id": "1288141c-d38b-43cd-bd24-edadf3f814de",
   "metadata": {},
   "outputs": [],
   "source": [
    "1 == 1 or 2 == 2"
   ]
  },
  {
   "cell_type": "code",
   "execution_count": null,
   "id": "2a046dc6-da9c-4c01-8a67-a0f49c769e1d",
   "metadata": {},
   "outputs": [],
   "source": [
    "1 == 1 or 2 == 3"
   ]
  },
  {
   "cell_type": "code",
   "execution_count": null,
   "id": "84945357-a383-497f-8d35-0d9555e75690",
   "metadata": {},
   "outputs": [],
   "source": [
    "1 == 2 or 2 == 3"
   ]
  },
  {
   "cell_type": "code",
   "execution_count": null,
   "id": "adafc447-cb1f-4055-908e-a8ae8c3d0a93",
   "metadata": {},
   "outputs": [],
   "source": [
    "not(1 == 1)"
   ]
  },
  {
   "cell_type": "code",
   "execution_count": null,
   "id": "f2b7c52b-c318-4fe7-bd49-844e70524a83",
   "metadata": {},
   "outputs": [],
   "source": [
    "not(1 == 2)"
   ]
  },
  {
   "cell_type": "code",
   "execution_count": null,
   "id": "d92dea4a-49b1-43d2-92ce-2fe9bc0f34cf",
   "metadata": {},
   "outputs": [],
   "source": [
    "# Always equates to False\n",
    "# None, 0, 0.0, 0j, \"\", [], (), {}"
   ]
  },
  {
   "cell_type": "code",
   "execution_count": null,
   "id": "d6e8891e-6bf1-4edd-9b43-fcb3be20ffe4",
   "metadata": {},
   "outputs": [],
   "source": [
    "bool(None)"
   ]
  },
  {
   "cell_type": "code",
   "execution_count": null,
   "id": "96d73849-3aef-4c0f-b62f-014ee5186672",
   "metadata": {},
   "outputs": [],
   "source": [
    "bool(0)"
   ]
  },
  {
   "cell_type": "code",
   "execution_count": null,
   "id": "e87fabae-2a61-44ad-a24a-a62d0456ea78",
   "metadata": {},
   "outputs": [],
   "source": [
    "bool(\"\")"
   ]
  },
  {
   "cell_type": "code",
   "execution_count": null,
   "id": "3e0f25c0-0e6e-4127-9be4-094963d55eec",
   "metadata": {},
   "outputs": [],
   "source": [
    "bool([])"
   ]
  },
  {
   "cell_type": "code",
   "execution_count": null,
   "id": "0a021073-de60-4e86-b5f1-207ad66bcad6",
   "metadata": {},
   "outputs": [],
   "source": [
    "bool(0.0)"
   ]
  },
  {
   "cell_type": "code",
   "execution_count": null,
   "id": "865cf5f7-4b39-4884-b235-b9c500ab4dc8",
   "metadata": {},
   "outputs": [],
   "source": [
    "print(bool(\"Python 3\") and not(23 == 23))"
   ]
  },
  {
   "cell_type": "code",
   "execution_count": null,
   "id": "81458b34-7d86-44ca-a58a-f6f2060b1b5c",
   "metadata": {},
   "outputs": [],
   "source": []
  },
  {
   "cell_type": "code",
   "execution_count": null,
   "id": "dc17c756-b0e7-404f-af6b-723dbb210654",
   "metadata": {},
   "outputs": [],
   "source": []
  }
 ],
 "metadata": {
  "kernelspec": {
   "display_name": "Python 3",
   "language": "python",
   "name": "python3"
  },
  "language_info": {
   "codemirror_mode": {
    "name": "ipython",
    "version": 3
   },
   "file_extension": ".py",
   "mimetype": "text/x-python",
   "name": "python",
   "nbconvert_exporter": "python",
   "pygments_lexer": "ipython3",
   "version": "3.8.8"
  }
 },
 "nbformat": 4,
 "nbformat_minor": 5
}
