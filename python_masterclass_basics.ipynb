{
 "cells": [
  {
   "cell_type": "markdown",
   "id": "fd8eca02-95c1-4d7e-ac84-74132cd6edbe",
   "metadata": {},
   "source": [
    "## Python Complete Masterclass for Beginners"
   ]
  },
  {
   "cell_type": "code",
   "execution_count": 1,
   "id": "7b4c5a85-4f02-4eb6-bfc3-fba0af18a355",
   "metadata": {},
   "outputs": [
    {
     "name": "stdout",
     "output_type": "stream",
     "text": [
      "I am already writing code and enjoying this course!\n"
     ]
    }
   ],
   "source": [
    "print('I am already writing code and enjoying this course!')"
   ]
  },
  {
   "cell_type": "code",
   "execution_count": 8,
   "id": "01416e54-3323-4ff3-9165-6987e0ba94eb",
   "metadata": {},
   "outputs": [
    {
     "name": "stdin",
     "output_type": "stream",
     "text": [
      "Please enter the string you want to print:  hello world\n"
     ]
    },
    {
     "name": "stdout",
     "output_type": "stream",
     "text": [
      "hello world\n"
     ]
    }
   ],
   "source": [
    "user_says = input(\"Please enter the string you want to print: \")\n",
    "print(user_says)"
   ]
  },
  {
   "cell_type": "code",
   "execution_count": 9,
   "id": "45a8cb5f-70aa-4752-83eb-29476c1252e3",
   "metadata": {},
   "outputs": [],
   "source": [
    "a = b = c = 10"
   ]
  },
  {
   "cell_type": "code",
   "execution_count": 10,
   "id": "b5a17d6b-52a6-4f27-91c8-1df1dc5aa115",
   "metadata": {},
   "outputs": [
    {
     "data": {
      "text/plain": [
       "10"
      ]
     },
     "execution_count": 10,
     "metadata": {},
     "output_type": "execute_result"
    }
   ],
   "source": [
    "a"
   ]
  },
  {
   "cell_type": "code",
   "execution_count": 11,
   "id": "a3ce910f-73fd-40e5-9a76-ddebb8c945d4",
   "metadata": {},
   "outputs": [
    {
     "data": {
      "text/plain": [
       "10"
      ]
     },
     "execution_count": 11,
     "metadata": {},
     "output_type": "execute_result"
    }
   ],
   "source": [
    "b"
   ]
  },
  {
   "cell_type": "code",
   "execution_count": 12,
   "id": "d408659c-2cd4-40f5-905c-cef74e80e46e",
   "metadata": {},
   "outputs": [
    {
     "data": {
      "text/plain": [
       "10"
      ]
     },
     "execution_count": 12,
     "metadata": {},
     "output_type": "execute_result"
    }
   ],
   "source": [
    "c"
   ]
  },
  {
   "cell_type": "code",
   "execution_count": 13,
   "id": "818080d7-856e-474d-a339-2cee0e6f26a9",
   "metadata": {},
   "outputs": [],
   "source": [
    "a, b, c = 1, 2, 3"
   ]
  },
  {
   "cell_type": "code",
   "execution_count": 14,
   "id": "0d7a145f-5326-4057-8a3d-e2d46c1229c3",
   "metadata": {},
   "outputs": [
    {
     "data": {
      "text/plain": [
       "1"
      ]
     },
     "execution_count": 14,
     "metadata": {},
     "output_type": "execute_result"
    }
   ],
   "source": [
    "a"
   ]
  },
  {
   "cell_type": "code",
   "execution_count": 15,
   "id": "487006dd-4596-45d5-bf6d-ef35a9dd4975",
   "metadata": {},
   "outputs": [
    {
     "data": {
      "text/plain": [
       "2"
      ]
     },
     "execution_count": 15,
     "metadata": {},
     "output_type": "execute_result"
    }
   ],
   "source": [
    "b"
   ]
  },
  {
   "cell_type": "code",
   "execution_count": 16,
   "id": "967c572f-7b13-4d49-805d-3c53a7236872",
   "metadata": {},
   "outputs": [
    {
     "data": {
      "text/plain": [
       "3"
      ]
     },
     "execution_count": 16,
     "metadata": {},
     "output_type": "execute_result"
    }
   ],
   "source": [
    "c"
   ]
  },
  {
   "cell_type": "code",
   "execution_count": 17,
   "id": "77010252-47c5-46b6-9f70-5a64deb88147",
   "metadata": {},
   "outputs": [],
   "source": [
    "a = 10"
   ]
  },
  {
   "cell_type": "code",
   "execution_count": 18,
   "id": "77d55b28-f61a-4c69-babc-7ab4cbf2a0cf",
   "metadata": {},
   "outputs": [
    {
     "data": {
      "text/plain": [
       "4336396928"
      ]
     },
     "execution_count": 18,
     "metadata": {},
     "output_type": "execute_result"
    }
   ],
   "source": [
    "id(10)"
   ]
  },
  {
   "cell_type": "code",
   "execution_count": 19,
   "id": "30e35d29-31b1-4fda-b69a-3ad11eb16608",
   "metadata": {},
   "outputs": [
    {
     "data": {
      "text/plain": [
       "4336396928"
      ]
     },
     "execution_count": 19,
     "metadata": {},
     "output_type": "execute_result"
    }
   ],
   "source": [
    "id(a)"
   ]
  },
  {
   "cell_type": "code",
   "execution_count": 20,
   "id": "f97cf865-6abe-458c-8470-f45711653be1",
   "metadata": {},
   "outputs": [],
   "source": [
    "b = a"
   ]
  },
  {
   "cell_type": "code",
   "execution_count": 21,
   "id": "617e626f-c1c2-4769-8db6-91bd23e9a4d4",
   "metadata": {},
   "outputs": [
    {
     "data": {
      "text/plain": [
       "4336396928"
      ]
     },
     "execution_count": 21,
     "metadata": {},
     "output_type": "execute_result"
    }
   ],
   "source": [
    "id(b)"
   ]
  },
  {
   "cell_type": "code",
   "execution_count": 22,
   "id": "15c57f88-c837-4064-9d34-4307d8f0b8b2",
   "metadata": {},
   "outputs": [],
   "source": [
    "b = 20"
   ]
  },
  {
   "cell_type": "code",
   "execution_count": 23,
   "id": "ae054674-aa5d-4b05-82fa-9206eefee045",
   "metadata": {},
   "outputs": [
    {
     "data": {
      "text/plain": [
       "4336397248"
      ]
     },
     "execution_count": 23,
     "metadata": {},
     "output_type": "execute_result"
    }
   ],
   "source": [
    "id(b)"
   ]
  },
  {
   "cell_type": "code",
   "execution_count": 24,
   "id": "fb9d6657-6c39-4553-ae32-fd915280a884",
   "metadata": {},
   "outputs": [
    {
     "data": {
      "text/plain": [
       "4336396928"
      ]
     },
     "execution_count": 24,
     "metadata": {},
     "output_type": "execute_result"
    }
   ],
   "source": [
    "id(a)"
   ]
  },
  {
   "cell_type": "code",
   "execution_count": null,
   "id": "baa1d958-2a1b-4e7d-847e-7b6b351b3c25",
   "metadata": {},
   "outputs": [],
   "source": []
  }
 ],
 "metadata": {
  "kernelspec": {
   "display_name": "Python 3",
   "language": "python",
   "name": "python3"
  },
  "language_info": {
   "codemirror_mode": {
    "name": "ipython",
    "version": 3
   },
   "file_extension": ".py",
   "mimetype": "text/x-python",
   "name": "python",
   "nbconvert_exporter": "python",
   "pygments_lexer": "ipython3",
   "version": "3.8.8"
  }
 },
 "nbformat": 4,
 "nbformat_minor": 5
}
