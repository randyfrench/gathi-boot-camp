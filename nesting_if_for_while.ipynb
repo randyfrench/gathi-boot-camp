{
 "cells": [
  {
   "cell_type": "markdown",
   "id": "cb13b683-0dba-4b66-880d-65fb12e8f83f",
   "metadata": {},
   "source": [
    "## Nesting If / For / While"
   ]
  },
  {
   "cell_type": "code",
   "execution_count": 4,
   "id": "9b712bf1-a849-4265-90ad-3005f3a33860",
   "metadata": {},
   "outputs": [],
   "source": [
    "x = \"Cisco\""
   ]
  },
  {
   "cell_type": "code",
   "execution_count": 5,
   "id": "d08249f7-a04d-4cc2-afb0-3a67a63af2cd",
   "metadata": {},
   "outputs": [
    {
     "name": "stdout",
     "output_type": "stream",
     "text": [
      "Cisco 5\n"
     ]
    }
   ],
   "source": [
    "if \"i\" in x:\n",
    "    if len(x) > 3:\n",
    "        print(x, len(x))"
   ]
  },
  {
   "cell_type": "code",
   "execution_count": 7,
   "id": "d81cf092-cc81-403c-8dc5-bd8e9b71ab09",
   "metadata": {},
   "outputs": [
    {
     "name": "stdout",
     "output_type": "stream",
     "text": [
      "Cisco 5\n"
     ]
    }
   ],
   "source": [
    "if (\"i\" in x) and (len(x) > 3):\n",
    "        print(x, len(x))"
   ]
  },
  {
   "cell_type": "code",
   "execution_count": 9,
   "id": "ccacaf60-284a-4ce7-9f49-8591bc778f9f",
   "metadata": {},
   "outputs": [],
   "source": [
    "list1 = [4, 5, 6]\n",
    "list2 = [10, 20, 30]"
   ]
  },
  {
   "cell_type": "code",
   "execution_count": 10,
   "id": "c4c57989-7102-402b-a571-4ef928582db6",
   "metadata": {},
   "outputs": [
    {
     "name": "stdout",
     "output_type": "stream",
     "text": [
      "40\n",
      "80\n",
      "120\n",
      "50\n",
      "100\n",
      "150\n",
      "60\n",
      "120\n",
      "180\n"
     ]
    }
   ],
   "source": [
    "for i in list1:\n",
    "    for j in list2:\n",
    "        print(i * j)"
   ]
  },
  {
   "cell_type": "code",
   "execution_count": 11,
   "id": "ef3f9f3b-2986-4c63-9243-fc2f286b09a2",
   "metadata": {},
   "outputs": [
    {
     "name": "stdout",
     "output_type": "stream",
     "text": [
      "40\n",
      "80\n",
      "120\n",
      "4\n",
      "50\n",
      "100\n",
      "150\n",
      "5\n",
      "60\n",
      "120\n",
      "180\n",
      "6\n"
     ]
    }
   ],
   "source": [
    "for i in list1:\n",
    "    for j in list2:\n",
    "        print(i * j)\n",
    "    print(i)"
   ]
  },
  {
   "cell_type": "code",
   "execution_count": 12,
   "id": "245876ad-7825-455e-9536-98e894550a01",
   "metadata": {},
   "outputs": [],
   "source": [
    "x = 1"
   ]
  },
  {
   "cell_type": "code",
   "execution_count": 13,
   "id": "d04ed599-bae3-4cab-9cfb-71012d6aec9f",
   "metadata": {},
   "outputs": [
    {
     "name": "stdout",
     "output_type": "stream",
     "text": [
      "1\n",
      "2\n",
      "3\n",
      "4\n",
      "5\n",
      "6\n",
      "7\n",
      "8\n",
      "9\n",
      "10\n"
     ]
    }
   ],
   "source": [
    "while x <= 10:\n",
    "    print(x)\n",
    "    x = x + 1"
   ]
  },
  {
   "cell_type": "code",
   "execution_count": 16,
   "id": "16669246-ea03-4d52-ace8-81a8ae4e2ab5",
   "metadata": {},
   "outputs": [],
   "source": [
    "x = 1"
   ]
  },
  {
   "cell_type": "code",
   "execution_count": 17,
   "id": "7c26a4dc-77c5-44d5-b8fe-d3f66b90a6cc",
   "metadata": {},
   "outputs": [
    {
     "name": "stdout",
     "output_type": "stream",
     "text": [
      "5\n",
      "6\n",
      "7\n",
      "8\n",
      "9\n",
      "10\n",
      "5\n",
      "6\n",
      "7\n",
      "8\n",
      "9\n",
      "10\n",
      "5\n",
      "6\n",
      "7\n",
      "8\n",
      "9\n",
      "10\n",
      "5\n",
      "6\n",
      "7\n",
      "8\n",
      "9\n",
      "10\n",
      "5\n",
      "6\n",
      "7\n",
      "8\n",
      "9\n",
      "10\n",
      "5\n",
      "6\n",
      "7\n",
      "8\n",
      "9\n",
      "10\n",
      "5\n",
      "6\n",
      "7\n",
      "8\n",
      "9\n",
      "10\n",
      "5\n",
      "6\n",
      "7\n",
      "8\n",
      "9\n",
      "10\n",
      "5\n",
      "6\n",
      "7\n",
      "8\n",
      "9\n",
      "10\n",
      "5\n",
      "6\n",
      "7\n",
      "8\n",
      "9\n",
      "10\n"
     ]
    }
   ],
   "source": [
    "while x <= 10:\n",
    "    z = 5\n",
    "    x += 1\n",
    "    while z <= 10:\n",
    "        print(z)\n",
    "        z += 1"
   ]
  },
  {
   "cell_type": "code",
   "execution_count": 23,
   "id": "66770f26-f100-4cb0-9c24-29dd733a1de4",
   "metadata": {},
   "outputs": [
    {
     "name": "stdout",
     "output_type": "stream",
     "text": [
      "5\n",
      "6\n",
      "7\n",
      "8\n",
      "9\n"
     ]
    }
   ],
   "source": [
    "for number in range(10):\n",
    "    if 5 <= number <= 9:\n",
    "        print(number)"
   ]
  },
  {
   "cell_type": "code",
   "execution_count": null,
   "id": "b0a5808b-6274-4653-833e-688eff2803b6",
   "metadata": {},
   "outputs": [],
   "source": []
  }
 ],
 "metadata": {
  "kernelspec": {
   "display_name": "Python 3",
   "language": "python",
   "name": "python3"
  },
  "language_info": {
   "codemirror_mode": {
    "name": "ipython",
    "version": 3
   },
   "file_extension": ".py",
   "mimetype": "text/x-python",
   "name": "python",
   "nbconvert_exporter": "python",
   "pygments_lexer": "ipython3",
   "version": "3.8.8"
  }
 },
 "nbformat": 4,
 "nbformat_minor": 5
}
