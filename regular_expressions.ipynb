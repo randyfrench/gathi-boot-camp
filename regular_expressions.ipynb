{
 "cells": [
  {
   "cell_type": "markdown",
   "id": "4b6517e9-8cc0-40a4-a77f-7c795f8bd094",
   "metadata": {},
   "source": [
    "## Regular Expressions"
   ]
  },
  {
   "cell_type": "markdown",
   "id": "802bd099-f4d3-492f-b1a0-babdc8c60757",
   "metadata": {},
   "source": [
    "### Match() & Search()"
   ]
  },
  {
   "cell_type": "code",
   "execution_count": 2,
   "id": "ad74b7c0-8e68-4a4f-aa5c-dd261e397d88",
   "metadata": {},
   "outputs": [],
   "source": [
    "import re"
   ]
  },
  {
   "cell_type": "code",
   "execution_count": 1,
   "id": "bcabe16e-b436-4e5d-8848-d43b47ccb805",
   "metadata": {},
   "outputs": [],
   "source": [
    "mystring = \"You can learn any programming language, whether it is Python2, Python3, Perl, Java, javascript or PHP\""
   ]
  },
  {
   "cell_type": "code",
   "execution_count": 3,
   "id": "94815084-ad85-428f-9e03-2234a98da916",
   "metadata": {},
   "outputs": [],
   "source": [
    "# match()\n",
    "a = re.match(\"You\", mystring)"
   ]
  },
  {
   "cell_type": "code",
   "execution_count": 4,
   "id": "6e20c684-a48e-4c9b-9fa0-3f1761d99bff",
   "metadata": {},
   "outputs": [
    {
     "data": {
      "text/plain": [
       "<re.Match object; span=(0, 3), match='You'>"
      ]
     },
     "execution_count": 4,
     "metadata": {},
     "output_type": "execute_result"
    }
   ],
   "source": [
    "a"
   ]
  },
  {
   "cell_type": "code",
   "execution_count": null,
   "id": "a4ff381e-d08d-4581-a35f-ba420f9727b7",
   "metadata": {},
   "outputs": [],
   "source": []
  }
 ],
 "metadata": {
  "kernelspec": {
   "display_name": "Python 3",
   "language": "python",
   "name": "python3"
  },
  "language_info": {
   "codemirror_mode": {
    "name": "ipython",
    "version": 3
   },
   "file_extension": ".py",
   "mimetype": "text/x-python",
   "name": "python",
   "nbconvert_exporter": "python",
   "pygments_lexer": "ipython3",
   "version": "3.8.8"
  }
 },
 "nbformat": 4,
 "nbformat_minor": 5
}
