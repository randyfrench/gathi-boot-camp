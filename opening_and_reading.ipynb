{
 "cells": [
  {
   "cell_type": "markdown",
   "id": "d994dd20-1e07-4baf-b1a4-f25b3cc48047",
   "metadata": {},
   "source": [
    "# File Operations"
   ]
  },
  {
   "cell_type": "markdown",
   "id": "349f149a-4479-459c-a34d-e24fc200b557",
   "metadata": {},
   "source": [
    "### Opening & Reading"
   ]
  },
  {
   "cell_type": "markdown",
   "id": "8186be20-f1af-4e86-bfb8-4a0c6f56febc",
   "metadata": {},
   "source": [
    "- \"r\" reading (default mode)\n",
    "- \"w\" writing\n",
    "- \"a\" appending\n",
    "- \"b\" binary\n",
    "- \"x\" exclusive creation"
   ]
  },
  {
   "cell_type": "code",
   "execution_count": 1,
   "id": "850745ce-7da0-466d-b880-8ffd8aafc773",
   "metadata": {},
   "outputs": [],
   "source": [
    "myfile = open(\"/Users/randyfrench/codeup-data-science/gathi-boot-camp/misnames.txt\", \"r\")"
   ]
  },
  {
   "cell_type": "code",
   "execution_count": 2,
   "id": "482a994c-e69a-49a8-baff-75716e498fa3",
   "metadata": {},
   "outputs": [
    {
     "data": {
      "text/plain": [
       "'r'"
      ]
     },
     "execution_count": 2,
     "metadata": {},
     "output_type": "execute_result"
    }
   ],
   "source": [
    "myfile.mode"
   ]
  },
  {
   "cell_type": "code",
   "execution_count": 3,
   "id": "d1e024a1-60c7-471e-8699-25bde90ff120",
   "metadata": {},
   "outputs": [
    {
     "data": {
      "text/plain": [
       "'Cisco\\nJuneper\\nHP\\nAVaya\\nNorton\\nAries\\nLinkedin'"
      ]
     },
     "execution_count": 3,
     "metadata": {},
     "output_type": "execute_result"
    }
   ],
   "source": [
    "myfile.read()"
   ]
  },
  {
   "cell_type": "code",
   "execution_count": 4,
   "id": "6f1dc572-e073-4783-b195-df0047985098",
   "metadata": {},
   "outputs": [
    {
     "data": {
      "text/plain": [
       "''"
      ]
     },
     "execution_count": 4,
     "metadata": {},
     "output_type": "execute_result"
    }
   ],
   "source": [
    "myfile.read(5)"
   ]
  },
  {
   "cell_type": "code",
   "execution_count": 5,
   "id": "e31a9b55-3db5-4918-88f2-89f34a9e569c",
   "metadata": {},
   "outputs": [
    {
     "data": {
      "text/plain": [
       "0"
      ]
     },
     "execution_count": 5,
     "metadata": {},
     "output_type": "execute_result"
    }
   ],
   "source": [
    "myfile.seek(0)"
   ]
  },
  {
   "cell_type": "code",
   "execution_count": 6,
   "id": "87654870-44e6-447d-90ce-7f4f6683a2f8",
   "metadata": {},
   "outputs": [
    {
     "data": {
      "text/plain": [
       "0"
      ]
     },
     "execution_count": 6,
     "metadata": {},
     "output_type": "execute_result"
    }
   ],
   "source": [
    "myfile.tell()"
   ]
  },
  {
   "cell_type": "code",
   "execution_count": 7,
   "id": "967c8993-b337-4448-b9a1-98c7eba3bccd",
   "metadata": {},
   "outputs": [
    {
     "data": {
      "text/plain": [
       "'Cisco'"
      ]
     },
     "execution_count": 7,
     "metadata": {},
     "output_type": "execute_result"
    }
   ],
   "source": [
    "myfile.read(5)"
   ]
  },
  {
   "cell_type": "code",
   "execution_count": 8,
   "id": "ff9b7024-d4b2-49d5-9e2d-f43260a1deb3",
   "metadata": {},
   "outputs": [
    {
     "data": {
      "text/plain": [
       "'\\n'"
      ]
     },
     "execution_count": 8,
     "metadata": {},
     "output_type": "execute_result"
    }
   ],
   "source": [
    "myfile.readline()"
   ]
  },
  {
   "cell_type": "code",
   "execution_count": 9,
   "id": "9c735be0-ccf9-4ce4-a102-3ac0e61d661e",
   "metadata": {},
   "outputs": [
    {
     "data": {
      "text/plain": [
       "'Juneper\\n'"
      ]
     },
     "execution_count": 9,
     "metadata": {},
     "output_type": "execute_result"
    }
   ],
   "source": [
    "myfile.readline()"
   ]
  },
  {
   "cell_type": "code",
   "execution_count": 10,
   "id": "c52096b7-1a06-41be-8ee9-4f9f542e8088",
   "metadata": {},
   "outputs": [
    {
     "data": {
      "text/plain": [
       "'HP\\n'"
      ]
     },
     "execution_count": 10,
     "metadata": {},
     "output_type": "execute_result"
    }
   ],
   "source": [
    "myfile.readline()"
   ]
  },
  {
   "cell_type": "code",
   "execution_count": 11,
   "id": "4997ea80-ed13-4de4-8b41-87ba4a6d9a59",
   "metadata": {},
   "outputs": [
    {
     "data": {
      "text/plain": [
       "'AVaya\\n'"
      ]
     },
     "execution_count": 11,
     "metadata": {},
     "output_type": "execute_result"
    }
   ],
   "source": [
    "myfile.readline()"
   ]
  },
  {
   "cell_type": "code",
   "execution_count": 12,
   "id": "e272ce5f-a776-4a39-bf40-e52efef87ccc",
   "metadata": {},
   "outputs": [
    {
     "data": {
      "text/plain": [
       "'Norton\\n'"
      ]
     },
     "execution_count": 12,
     "metadata": {},
     "output_type": "execute_result"
    }
   ],
   "source": [
    "myfile.readline()"
   ]
  },
  {
   "cell_type": "code",
   "execution_count": 13,
   "id": "0aa6b227-1283-4fb5-9ace-1fd3696bcbc7",
   "metadata": {},
   "outputs": [
    {
     "data": {
      "text/plain": [
       "'Aries\\n'"
      ]
     },
     "execution_count": 13,
     "metadata": {},
     "output_type": "execute_result"
    }
   ],
   "source": [
    "myfile.readline()"
   ]
  },
  {
   "cell_type": "code",
   "execution_count": 14,
   "id": "da221515-b4f7-4639-b889-edd508b12e22",
   "metadata": {},
   "outputs": [
    {
     "data": {
      "text/plain": [
       "'Linkedin'"
      ]
     },
     "execution_count": 14,
     "metadata": {},
     "output_type": "execute_result"
    }
   ],
   "source": [
    "myfile.readline()"
   ]
  },
  {
   "cell_type": "code",
   "execution_count": 15,
   "id": "1cb3bd47-a4bc-44ae-a132-ee645bdb7103",
   "metadata": {},
   "outputs": [
    {
     "data": {
      "text/plain": [
       "''"
      ]
     },
     "execution_count": 15,
     "metadata": {},
     "output_type": "execute_result"
    }
   ],
   "source": [
    "myfile.readline()"
   ]
  },
  {
   "cell_type": "code",
   "execution_count": 16,
   "id": "0107f964-bcf2-4d8a-b532-e3f8d47231d3",
   "metadata": {},
   "outputs": [
    {
     "data": {
      "text/plain": [
       "0"
      ]
     },
     "execution_count": 16,
     "metadata": {},
     "output_type": "execute_result"
    }
   ],
   "source": [
    "myfile.seek(0)"
   ]
  },
  {
   "cell_type": "code",
   "execution_count": 17,
   "id": "4c01ee58-1d90-4e4e-abf0-7d9c62d4ffa2",
   "metadata": {},
   "outputs": [
    {
     "data": {
      "text/plain": [
       "['Cisco\\n', 'Juneper\\n', 'HP\\n', 'AVaya\\n', 'Norton\\n', 'Aries\\n', 'Linkedin']"
      ]
     },
     "execution_count": 17,
     "metadata": {},
     "output_type": "execute_result"
    }
   ],
   "source": [
    "myfile.readlines()"
   ]
  },
  {
   "cell_type": "code",
   "execution_count": 18,
   "id": "4d1e3598-dd10-4e12-9a5e-0c5cbe392b39",
   "metadata": {},
   "outputs": [
    {
     "data": {
      "text/plain": [
       "[]"
      ]
     },
     "execution_count": 18,
     "metadata": {},
     "output_type": "execute_result"
    }
   ],
   "source": [
    "myfile.readlines()"
   ]
  },
  {
   "cell_type": "code",
   "execution_count": 19,
   "id": "f502a4d6-46db-49b2-88ae-856c10e70a45",
   "metadata": {},
   "outputs": [
    {
     "data": {
      "text/plain": [
       "0"
      ]
     },
     "execution_count": 19,
     "metadata": {},
     "output_type": "execute_result"
    }
   ],
   "source": [
    "myfile.seek(0)"
   ]
  },
  {
   "cell_type": "code",
   "execution_count": 20,
   "id": "69b363ad-198b-4a1b-af3b-8a444e612947",
   "metadata": {},
   "outputs": [
    {
     "name": "stdout",
     "output_type": "stream",
     "text": [
      "AVaya\n",
      "\n",
      "Aries\n",
      "\n"
     ]
    }
   ],
   "source": [
    "for line in myfile.readlines():\n",
    "    if line.startswith(\"A\"):\n",
    "        print(line)"
   ]
  },
  {
   "cell_type": "markdown",
   "id": "10217ceb-d01d-45fc-b5a1-806214edd4dc",
   "metadata": {},
   "source": [
    "## Writing & Appending"
   ]
  },
  {
   "cell_type": "markdown",
   "id": "aa8d5615-b039-4e77-8e57-156b651227b1",
   "metadata": {},
   "source": [
    "- \"w\" writing"
   ]
  },
  {
   "cell_type": "code",
   "execution_count": null,
   "id": "a2338457-0b5e-41d7-81ca-ac7fd9ce1914",
   "metadata": {},
   "outputs": [],
   "source": []
  }
 ],
 "metadata": {
  "kernelspec": {
   "display_name": "Python 3",
   "language": "python",
   "name": "python3"
  },
  "language_info": {
   "codemirror_mode": {
    "name": "ipython",
    "version": 3
   },
   "file_extension": ".py",
   "mimetype": "text/x-python",
   "name": "python",
   "nbconvert_exporter": "python",
   "pygments_lexer": "ipython3",
   "version": "3.8.8"
  }
 },
 "nbformat": 4,
 "nbformat_minor": 5
}
