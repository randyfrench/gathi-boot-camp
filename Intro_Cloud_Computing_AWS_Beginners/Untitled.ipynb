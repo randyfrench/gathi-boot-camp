{
 "cells": [
  {
   "cell_type": "markdown",
   "id": "25e0b0d4-77c6-4b8e-aeb0-8195695a0048",
   "metadata": {},
   "source": [
    "## Amazon Elastic Compute Cloud"
   ]
  },
  {
   "cell_type": "markdown",
   "id": "c6304d96-d583-4a0b-8694-44040477973b",
   "metadata": {},
   "source": [
    "- EC2 Host Server with EC2 Instance\n",
    "- EC2 hosts are managed by AWS\n"
   ]
  },
  {
   "cell_type": "code",
   "execution_count": null,
   "id": "7eceaa15-14b7-446f-988e-00db43299f26",
   "metadata": {},
   "outputs": [],
   "source": []
  }
 ],
 "metadata": {
  "kernelspec": {
   "display_name": "Python 3",
   "language": "python",
   "name": "python3"
  },
  "language_info": {
   "codemirror_mode": {
    "name": "ipython",
    "version": 3
   },
   "file_extension": ".py",
   "mimetype": "text/x-python",
   "name": "python",
   "nbconvert_exporter": "python",
   "pygments_lexer": "ipython3",
   "version": "3.8.8"
  }
 },
 "nbformat": 4,
 "nbformat_minor": 5
}
