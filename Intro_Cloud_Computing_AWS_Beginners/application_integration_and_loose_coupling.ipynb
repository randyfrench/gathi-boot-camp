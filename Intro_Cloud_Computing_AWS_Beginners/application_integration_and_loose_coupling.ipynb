{
 "cells": [
  {
   "cell_type": "markdown",
   "id": "a7bab6ed-da06-49a9-a1dc-c4eb70f9f956",
   "metadata": {},
   "source": [
    "## Application Integration and Loose Coupling"
   ]
  },
  {
   "cell_type": "markdown",
   "id": "ff20142c-254c-40f1-99b4-7157ad261760",
   "metadata": {},
   "source": [
    "- Intro\n",
    "- Amazon SNS and Amazon SQS\n",
    "- AWS Lambda to Amazon SQS Event Source Mapping\n",
    "- Serverless application with Amazon SQS, SNS, and Lambda"
   ]
  },
  {
   "cell_type": "code",
   "execution_count": null,
   "id": "494760b4-c3d3-4296-b89b-25bbdaabef40",
   "metadata": {},
   "outputs": [],
   "source": []
  }
 ],
 "metadata": {
  "kernelspec": {
   "display_name": "Python 3",
   "language": "python",
   "name": "python3"
  },
  "language_info": {
   "codemirror_mode": {
    "name": "ipython",
    "version": 3
   },
   "file_extension": ".py",
   "mimetype": "text/x-python",
   "name": "python",
   "nbconvert_exporter": "python",
   "pygments_lexer": "ipython3",
   "version": "3.8.8"
  }
 },
 "nbformat": 4,
 "nbformat_minor": 5
}
