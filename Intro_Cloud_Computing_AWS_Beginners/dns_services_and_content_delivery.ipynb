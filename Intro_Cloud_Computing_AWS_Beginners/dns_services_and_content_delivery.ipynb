{
 "cells": [
  {
   "cell_type": "markdown",
   "id": "cb0dd541-8a52-49c5-9efd-4cf472c47a88",
   "metadata": {},
   "source": [
    "## DNS Services and Content Delivery"
   ]
  },
  {
   "cell_type": "markdown",
   "id": "ad5501cf-132c-4ce1-91ed-2cc5c4711940",
   "metadata": {},
   "source": [
    "- Amazon Route 53 Overview and Routing Policies\n",
    "- Register domain using Route 53\n",
    "- Create Amazon CloudFront Distributions with 53 Static Website\n",
    "- Add an SSL/TLS Certificate and Route 53 Alias Record"
   ]
  },
  {
   "cell_type": "code",
   "execution_count": null,
   "id": "bf987bc7-0c2e-4c6d-bf0d-dc32ce5e8c2a",
   "metadata": {},
   "outputs": [],
   "source": []
  }
 ],
 "metadata": {
  "kernelspec": {
   "display_name": "Python 3",
   "language": "python",
   "name": "python3"
  },
  "language_info": {
   "codemirror_mode": {
    "name": "ipython",
    "version": 3
   },
   "file_extension": ".py",
   "mimetype": "text/x-python",
   "name": "python",
   "nbconvert_exporter": "python",
   "pygments_lexer": "ipython3",
   "version": "3.8.8"
  }
 },
 "nbformat": 4,
 "nbformat_minor": 5
}
