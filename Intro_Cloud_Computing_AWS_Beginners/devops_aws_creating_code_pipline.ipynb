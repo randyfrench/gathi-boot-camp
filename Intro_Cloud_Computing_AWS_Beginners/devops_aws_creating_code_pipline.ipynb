{
 "cells": [
  {
   "cell_type": "markdown",
   "id": "9c9d0925-481a-4b0e-86e6-319804bed0f6",
   "metadata": {},
   "source": [
    "## DevOps on AWS - Creating a Code Pipeline"
   ]
  },
  {
   "cell_type": "markdown",
   "id": "8e9bfe48-1f41-4592-a4b8-f62daf8cf5d2",
   "metadata": {},
   "source": [
    "- Continuous Integration and Continuous Deliver (CI/CD)\n",
    "- AWS CodePipeline with AWS Elastic Beanstalk\n",
    "- Create AWS CodeStar Project"
   ]
  },
  {
   "cell_type": "code",
   "execution_count": null,
   "id": "e5b14b00-7382-4bfe-a868-4f2b741995d3",
   "metadata": {},
   "outputs": [],
   "source": []
  },
  {
   "cell_type": "code",
   "execution_count": null,
   "id": "8b46d736-9822-41d1-a2cb-1fe29e99b5be",
   "metadata": {},
   "outputs": [],
   "source": []
  },
  {
   "cell_type": "code",
   "execution_count": null,
   "id": "05074b48-aa04-4807-a19f-4c4f03f1db15",
   "metadata": {},
   "outputs": [],
   "source": []
  }
 ],
 "metadata": {
  "kernelspec": {
   "display_name": "Python 3",
   "language": "python",
   "name": "python3"
  },
  "language_info": {
   "codemirror_mode": {
    "name": "ipython",
    "version": 3
   },
   "file_extension": ".py",
   "mimetype": "text/x-python",
   "name": "python",
   "nbconvert_exporter": "python",
   "pygments_lexer": "ipython3",
   "version": "3.8.8"
  }
 },
 "nbformat": 4,
 "nbformat_minor": 5
}
