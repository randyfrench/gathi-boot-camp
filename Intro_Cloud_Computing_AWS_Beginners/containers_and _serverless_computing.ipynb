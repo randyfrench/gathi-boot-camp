{
 "cells": [
  {
   "cell_type": "markdown",
   "id": "ee934d36-43e9-42ee-99df-40c65ff5521a",
   "metadata": {},
   "source": [
    "## Containers and Serverless Computing"
   ]
  },
  {
   "cell_type": "markdown",
   "id": "738f0573-3381-460f-965a-6ee634d924cc",
   "metadata": {},
   "source": [
    "- Dockeer Containers on Amazon ECS\n",
    "- Serverless with AWS Lambda"
   ]
  },
  {
   "cell_type": "code",
   "execution_count": null,
   "id": "8bc43e9d-5573-4645-8ab3-2f3f9b0aacc3",
   "metadata": {},
   "outputs": [],
   "source": []
  }
 ],
 "metadata": {
  "kernelspec": {
   "display_name": "Python 3",
   "language": "python",
   "name": "python3"
  },
  "language_info": {
   "codemirror_mode": {
    "name": "ipython",
    "version": 3
   },
   "file_extension": ".py",
   "mimetype": "text/x-python",
   "name": "python",
   "nbconvert_exporter": "python",
   "pygments_lexer": "ipython3",
   "version": "3.8.8"
  }
 },
 "nbformat": 4,
 "nbformat_minor": 5
}
