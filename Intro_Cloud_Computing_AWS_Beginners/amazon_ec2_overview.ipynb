{
 "cells": [
  {
   "cell_type": "markdown",
   "id": "25e0b0d4-77c6-4b8e-aeb0-8195695a0048",
   "metadata": {},
   "source": [
    "## Amazon Elastic Compute Cloud"
   ]
  },
  {
   "cell_type": "markdown",
   "id": "c6304d96-d583-4a0b-8694-44040477973b",
   "metadata": {},
   "source": [
    "- EC2 Host Server with EC2 Instance\n",
    "- EC2 hosts are managed by AWS\n"
   ]
  },
  {
   "cell_type": "markdown",
   "id": "c35da356-280f-4a78-814f-e8600f0db111",
   "metadata": {},
   "source": [
    "- Launching an Amazon EC2 Instance\n",
    "- Connecting to Amazon EC2 Instances\n",
    "- Create a Website using User Data\n",
    "- Using Acess Keys with EC2\n",
    "- Using IAM Roles with EC2\n",
    "- Scale Elastically with Amazon EC2 Auto Scaling"
   ]
  },
  {
   "cell_type": "code",
   "execution_count": null,
   "id": "3d60894e-a950-4bb5-a23b-8248c5fd823e",
   "metadata": {},
   "outputs": [],
   "source": []
  }
 ],
 "metadata": {
  "kernelspec": {
   "display_name": "Python 3",
   "language": "python",
   "name": "python3"
  },
  "language_info": {
   "codemirror_mode": {
    "name": "ipython",
    "version": 3
   },
   "file_extension": ".py",
   "mimetype": "text/x-python",
   "name": "python",
   "nbconvert_exporter": "python",
   "pygments_lexer": "ipython3",
   "version": "3.8.8"
  }
 },
 "nbformat": 4,
 "nbformat_minor": 5
}
