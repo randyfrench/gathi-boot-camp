{
 "cells": [
  {
   "cell_type": "markdown",
   "id": "c4cfe9e4-06f0-447a-822b-c8054da4e709",
   "metadata": {},
   "source": [
    "## Copy Options"
   ]
  },
  {
   "cell_type": "markdown",
   "id": "0f4674ef-8bf3-498d-82af-c90f42772732",
   "metadata": {},
   "source": [
    "- Understanding copy options\n",
    "- VALIDATION_MODE\n",
    "- Assignment 5: Using the copy options\n",
    "- Working with rejected records\n",
    "- SIZE_LIMIT\n",
    "- RETURN_FAILED_ONLY\n",
    "- TRUNCATECOLUMNS\n",
    "- FORCE\n",
    "- Load History\n",
    "- Quiz 4: Copy options\n",
    "- Assignment 6: Using the copy options"
   ]
  },
  {
   "cell_type": "code",
   "execution_count": null,
   "id": "6d10c8e3-158c-41a4-8aff-49d35d5ee060",
   "metadata": {},
   "outputs": [],
   "source": []
  }
 ],
 "metadata": {
  "kernelspec": {
   "display_name": "Python 3",
   "language": "python",
   "name": "python3"
  },
  "language_info": {
   "codemirror_mode": {
    "name": "ipython",
    "version": 3
   },
   "file_extension": ".py",
   "mimetype": "text/x-python",
   "name": "python",
   "nbconvert_exporter": "python",
   "pygments_lexer": "ipython3",
   "version": "3.8.8"
  }
 },
 "nbformat": 4,
 "nbformat_minor": 5
}
