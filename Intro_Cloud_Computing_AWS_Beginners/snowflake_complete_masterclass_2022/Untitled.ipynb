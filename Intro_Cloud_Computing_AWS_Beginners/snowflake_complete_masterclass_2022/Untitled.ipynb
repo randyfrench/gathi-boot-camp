{
 "cells": [
  {
   "cell_type": "markdown",
   "id": "49bfc4b7-771b-4fa1-829d-06605943b051",
   "metadata": {},
   "source": [
    "## Getting Started"
   ]
  },
  {
   "cell_type": "markdown",
   "id": "cfdb61a4-699c-49d6-8334-d39aba12744c",
   "metadata": {},
   "source": [
    "- Sign up for free trial\n",
    "- Getting to know the interface\n",
    "- Classical console view\n",
    "- Snowflake acrhitecture\n",
    "- Setting up virtual warehouses\n",
    "- Scaling policy\n",
    "- Exploring tables & databases\n",
    "- Loading data in snowflake"
   ]
  },
  {
   "cell_type": "code",
   "execution_count": null,
   "id": "50ddf2eb-cbac-43fd-b00d-9fd89c3c08df",
   "metadata": {},
   "outputs": [],
   "source": []
  }
 ],
 "metadata": {
  "kernelspec": {
   "display_name": "Python 3",
   "language": "python",
   "name": "python3"
  },
  "language_info": {
   "codemirror_mode": {
    "name": "ipython",
    "version": 3
   },
   "file_extension": ".py",
   "mimetype": "text/x-python",
   "name": "python",
   "nbconvert_exporter": "python",
   "pygments_lexer": "ipython3",
   "version": "3.8.8"
  }
 },
 "nbformat": 4,
 "nbformat_minor": 5
}
