{
 "cells": [
  {
   "cell_type": "markdown",
   "id": "15bb74aa-30cc-499c-955a-3584b23aed65",
   "metadata": {},
   "source": [
    "## Loading Unstructured Data"
   ]
  },
  {
   "cell_type": "markdown",
   "id": "6ae80ee4-dfd1-4974-a2af-3e1b5003df98",
   "metadata": {},
   "source": [
    "- High-Level Steps\n",
    "- Our Data\n",
    "- Creating stages & raw file\n",
    "- Assignment 7: Load Raw JSON\n",
    "- Handling Nested data\n",
    "- Assignment 8: Parsing & handling array\n",
    "- Dealing with hierarchy\n",
    "- Insert Final Data\n",
    "- Querying PARQUET Data\n",
    "- Loading PARQUET Data"
   ]
  },
  {
   "cell_type": "code",
   "execution_count": null,
   "id": "421de2b9-7e38-494f-8c43-918f01732245",
   "metadata": {},
   "outputs": [],
   "source": []
  }
 ],
 "metadata": {
  "kernelspec": {
   "display_name": "Python 3",
   "language": "python",
   "name": "python3"
  },
  "language_info": {
   "codemirror_mode": {
    "name": "ipython",
    "version": 3
   },
   "file_extension": ".py",
   "mimetype": "text/x-python",
   "name": "python",
   "nbconvert_exporter": "python",
   "pygments_lexer": "ipython3",
   "version": "3.8.8"
  }
 },
 "nbformat": 4,
 "nbformat_minor": 5
}
