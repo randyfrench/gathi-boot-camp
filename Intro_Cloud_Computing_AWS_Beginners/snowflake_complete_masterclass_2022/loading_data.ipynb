{
 "cells": [
  {
   "cell_type": "markdown",
   "id": "eb60830f-c3c4-4642-9473-97fd2ba4aa79",
   "metadata": {},
   "source": [
    "## Loading Data"
   ]
  },
  {
   "cell_type": "markdown",
   "id": "9e5e6c89-7fe6-481b-8824-7116d91a84c2",
   "metadata": {},
   "source": [
    "- Loading methods\n",
    "- Understanding stages\n",
    "- Creating stage\n",
    "- COPY command\n",
    "- Assignment 3: Create a stage and load data\n",
    "- Transforming data\n",
    "- More transformations\n",
    "- Copy options & ON_ERROR\n",
    "- File format object\n",
    "- Summary\n",
    "- Quiz 3: Loading data\n",
    "- Assignment 4: Creat file format object & use copy option"
   ]
  },
  {
   "cell_type": "code",
   "execution_count": null,
   "id": "68ce8e63-77b8-42e9-b362-99ef8e4efee6",
   "metadata": {},
   "outputs": [],
   "source": []
  }
 ],
 "metadata": {
  "kernelspec": {
   "display_name": "Python 3",
   "language": "python",
   "name": "python3"
  },
  "language_info": {
   "codemirror_mode": {
    "name": "ipython",
    "version": 3
   },
   "file_extension": ".py",
   "mimetype": "text/x-python",
   "name": "python",
   "nbconvert_exporter": "python",
   "pygments_lexer": "ipython3",
   "version": "3.8.8"
  }
 },
 "nbformat": 4,
 "nbformat_minor": 5
}
