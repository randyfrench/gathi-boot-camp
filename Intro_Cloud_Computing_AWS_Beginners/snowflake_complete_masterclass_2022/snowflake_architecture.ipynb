{
 "cells": [
  {
   "cell_type": "markdown",
   "id": "4331e118-b578-4be9-8dd3-abe62b3f450f",
   "metadata": {},
   "source": [
    "## Snowflake Architecture"
   ]
  },
  {
   "cell_type": "markdown",
   "id": "a60d2a62-1fb2-4cfe-bae6-f48df82e7029",
   "metadata": {},
   "source": [
    "- What is a data warehouse\n",
    "- Cloud computing\n",
    "- Snowflake editions\n",
    "- Snowflake pricing\n",
    "- Consumption of credits\n",
    "- Roles in Snowflake\n",
    "- Quiz 2: Architecture"
   ]
  },
  {
   "cell_type": "code",
   "execution_count": null,
   "id": "03429595-ae87-4180-a971-8503e168b7fb",
   "metadata": {},
   "outputs": [],
   "source": []
  }
 ],
 "metadata": {
  "kernelspec": {
   "display_name": "Python 3",
   "language": "python",
   "name": "python3"
  },
  "language_info": {
   "codemirror_mode": {
    "name": "ipython",
    "version": 3
   },
   "file_extension": ".py",
   "mimetype": "text/x-python",
   "name": "python",
   "nbconvert_exporter": "python",
   "pygments_lexer": "ipython3",
   "version": "3.8.8"
  }
 },
 "nbformat": 4,
 "nbformat_minor": 5
}
