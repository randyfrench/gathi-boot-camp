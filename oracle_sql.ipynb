{
 "cells": [
  {
   "cell_type": "markdown",
   "id": "7cb73a99-85a2-400f-a6a6-2395d6b5ffa8",
   "metadata": {},
   "source": [
    "## The Complete Oracle SQL Certification Course \n",
    "- New Udemy course I am taking \n",
    "- Usint the apex.oracle.com website in a free workspace"
   ]
  },
  {
   "cell_type": "markdown",
   "id": "6b70d2c5-e792-4808-bf08-5d164d37667d",
   "metadata": {},
   "source": [
    "- SELECT *\n",
    "- FROM (SELECT * FROM dept) d RIGHT OUTER JOIN (SELECT * FROM emp WHERE job = 'SALESMAN') e\n",
    "- ON e.deptno = d.deptno;"
   ]
  },
  {
   "cell_type": "code",
   "execution_count": null,
   "id": "03d0f771-2f2d-4fd0-9677-a06430e81741",
   "metadata": {},
   "outputs": [],
   "source": []
  }
 ],
 "metadata": {
  "kernelspec": {
   "display_name": "Python 3",
   "language": "python",
   "name": "python3"
  },
  "language_info": {
   "codemirror_mode": {
    "name": "ipython",
    "version": 3
   },
   "file_extension": ".py",
   "mimetype": "text/x-python",
   "name": "python",
   "nbconvert_exporter": "python",
   "pygments_lexer": "ipython3",
   "version": "3.8.8"
  }
 },
 "nbformat": 4,
 "nbformat_minor": 5
}
