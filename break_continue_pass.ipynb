{
 "cells": [
  {
   "cell_type": "markdown",
   "id": "364699c6-b65a-45ef-a2a0-c6cd5c83323a",
   "metadata": {},
   "source": [
    "## Break / Continue / Pass"
   ]
  },
  {
   "cell_type": "code",
   "execution_count": 1,
   "id": "f3ce68a7-b48d-4d58-95be-f3e6d55f5e11",
   "metadata": {},
   "outputs": [
    {
     "name": "stdout",
     "output_type": "stream",
     "text": [
      "0\n",
      "1\n",
      "2\n",
      "3\n",
      "4\n",
      "5\n",
      "6\n"
     ]
    }
   ],
   "source": [
    "for number in range(10):\n",
    "    if number == 7:\n",
    "        break\n",
    "    print(number)"
   ]
  },
  {
   "cell_type": "code",
   "execution_count": 2,
   "id": "82bc4ff6-a74e-4932-867c-6d2df1f124fd",
   "metadata": {},
   "outputs": [],
   "source": [
    "list1 = [4, 5, 6]\n",
    "list2 = [10, 20, 30]"
   ]
  },
  {
   "cell_type": "code",
   "execution_count": 3,
   "id": "a81e7c14-8df6-465a-a669-53f46a63a043",
   "metadata": {},
   "outputs": [
    {
     "name": "stdout",
     "output_type": "stream",
     "text": [
      "40\n",
      "Outside the nested loop\n",
      "50\n",
      "Outside the nested loop\n",
      "60\n",
      "Outside the nested loop\n"
     ]
    }
   ],
   "source": [
    "for i in list1:\n",
    "    for j in list2:\n",
    "        if j == 20:\n",
    "            break\n",
    "        print(i * j)\n",
    "    print(\"Outside the nested loop\")"
   ]
  },
  {
   "cell_type": "code",
   "execution_count": 4,
   "id": "c560d918-f029-41f5-8dce-cd546cf69b7c",
   "metadata": {},
   "outputs": [
    {
     "name": "stdout",
     "output_type": "stream",
     "text": [
      "40\n",
      "120\n",
      "Outside the nested loop\n",
      "50\n",
      "150\n",
      "Outside the nested loop\n",
      "60\n",
      "180\n",
      "Outside the nested loop\n"
     ]
    }
   ],
   "source": [
    "for i in list1:\n",
    "    for j in list2:\n",
    "        if j == 20:\n",
    "            continue\n",
    "        print(i * j)\n",
    "    print(\"Outside the nested loop\")"
   ]
  },
  {
   "cell_type": "code",
   "execution_count": 5,
   "id": "9a27a7b3-3905-400a-afac-0a2fb125be9e",
   "metadata": {},
   "outputs": [
    {
     "ename": "SyntaxError",
     "evalue": "unexpected EOF while parsing (<ipython-input-5-e61162350cc4>, line 1)",
     "output_type": "error",
     "traceback": [
      "\u001b[0;36m  File \u001b[0;32m\"<ipython-input-5-e61162350cc4>\"\u001b[0;36m, line \u001b[0;32m1\u001b[0m\n\u001b[0;31m    for i in range(10):\u001b[0m\n\u001b[0m                       ^\u001b[0m\n\u001b[0;31mSyntaxError\u001b[0m\u001b[0;31m:\u001b[0m unexpected EOF while parsing\n"
     ]
    }
   ],
   "source": [
    "for i in range(10):"
   ]
  },
  {
   "cell_type": "markdown",
   "id": "93579d05-e80c-4119-b32e-4a7888f3786d",
   "metadata": {},
   "source": [
    "## Exceptions"
   ]
  },
  {
   "cell_type": "code",
   "execution_count": 6,
   "id": "f503ab9e-302f-418b-b0cd-aab217eca89f",
   "metadata": {},
   "outputs": [
    {
     "ename": "NameError",
     "evalue": "name 'rnge' is not defined",
     "output_type": "error",
     "traceback": [
      "\u001b[0;31m---------------------------------------------------------------------------\u001b[0m",
      "\u001b[0;31mNameError\u001b[0m                                 Traceback (most recent call last)",
      "\u001b[0;32m<ipython-input-6-8af22d2015ba>\u001b[0m in \u001b[0;36m<module>\u001b[0;34m\u001b[0m\n\u001b[0;32m----> 1\u001b[0;31m \u001b[0;32mfor\u001b[0m \u001b[0mi\u001b[0m \u001b[0;32min\u001b[0m \u001b[0mrnge\u001b[0m\u001b[0;34m(\u001b[0m\u001b[0;36m10\u001b[0m\u001b[0;34m)\u001b[0m\u001b[0;34m:\u001b[0m\u001b[0;34m\u001b[0m\u001b[0;34m\u001b[0m\u001b[0m\n\u001b[0m\u001b[1;32m      2\u001b[0m     \u001b[0mprint\u001b[0m\u001b[0;34m(\u001b[0m\u001b[0mi\u001b[0m\u001b[0;34m)\u001b[0m\u001b[0;34m\u001b[0m\u001b[0;34m\u001b[0m\u001b[0m\n",
      "\u001b[0;31mNameError\u001b[0m: name 'rnge' is not defined"
     ]
    }
   ],
   "source": [
    "for i in rnge(10):\n",
    "    print(i)"
   ]
  },
  {
   "cell_type": "code",
   "execution_count": 7,
   "id": "f552be12-6086-4500-aae8-d2378d0c5dc2",
   "metadata": {},
   "outputs": [
    {
     "ename": "ZeroDivisionError",
     "evalue": "division by zero",
     "output_type": "error",
     "traceback": [
      "\u001b[0;31m---------------------------------------------------------------------------\u001b[0m",
      "\u001b[0;31mZeroDivisionError\u001b[0m                         Traceback (most recent call last)",
      "\u001b[0;32m<ipython-input-7-87ac9c94a8c2>\u001b[0m in \u001b[0;36m<module>\u001b[0;34m\u001b[0m\n\u001b[0;32m----> 1\u001b[0;31m \u001b[0;36m4\u001b[0m \u001b[0;34m/\u001b[0m \u001b[0;36m0\u001b[0m\u001b[0;34m\u001b[0m\u001b[0;34m\u001b[0m\u001b[0m\n\u001b[0m",
      "\u001b[0;31mZeroDivisionError\u001b[0m: division by zero"
     ]
    }
   ],
   "source": [
    "4 / 0"
   ]
  },
  {
   "cell_type": "code",
   "execution_count": null,
   "id": "03328e73-8006-41f8-8ef7-36d537daf0f9",
   "metadata": {},
   "outputs": [],
   "source": []
  }
 ],
 "metadata": {
  "kernelspec": {
   "display_name": "Python 3",
   "language": "python",
   "name": "python3"
  },
  "language_info": {
   "codemirror_mode": {
    "name": "ipython",
    "version": 3
   },
   "file_extension": ".py",
   "mimetype": "text/x-python",
   "name": "python",
   "nbconvert_exporter": "python",
   "pygments_lexer": "ipython3",
   "version": "3.8.8"
  }
 },
 "nbformat": 4,
 "nbformat_minor": 5
}
