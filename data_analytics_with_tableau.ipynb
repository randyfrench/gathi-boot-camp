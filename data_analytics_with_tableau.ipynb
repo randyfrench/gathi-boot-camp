{
 "cells": [
  {
   "cell_type": "markdown",
   "id": "942342aa-6738-4027-a8c8-0efc2e0fbc9c",
   "metadata": {},
   "source": [
    "## The Complete Introduction to Data Analytics with Tableau - Udemy"
   ]
  },
  {
   "cell_type": "markdown",
   "id": "8e13a3df-9f7f-4e1c-87e7-28821b0f4d69",
   "metadata": {},
   "source": [
    "- Creating five projects using different data sets and joining tables"
   ]
  },
  {
   "cell_type": "markdown",
   "id": "7bf9b32a-65aa-4130-819f-052ccd5a489c",
   "metadata": {},
   "source": [
    "- Project 1: Discount Mart(Sales and Profit Analytics)\n",
    "- Project 2: Green Destinations(HR Analytics)\n",
    "- Project 3: MyPaper(Acounts Receivable)\n",
    "- Project 4: Superstore(Sales Agent Tracker)"
   ]
  },
  {
   "cell_type": "code",
   "execution_count": null,
   "id": "0b7fcf3d-48c5-4a39-a324-35cf5cdb7080",
   "metadata": {},
   "outputs": [],
   "source": []
  }
 ],
 "metadata": {
  "kernelspec": {
   "display_name": "Python 3",
   "language": "python",
   "name": "python3"
  },
  "language_info": {
   "codemirror_mode": {
    "name": "ipython",
    "version": 3
   },
   "file_extension": ".py",
   "mimetype": "text/x-python",
   "name": "python",
   "nbconvert_exporter": "python",
   "pygments_lexer": "ipython3",
   "version": "3.8.8"
  }
 },
 "nbformat": 4,
 "nbformat_minor": 5
}
