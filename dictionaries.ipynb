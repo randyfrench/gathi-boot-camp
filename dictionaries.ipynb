{
 "cells": [
  {
   "cell_type": "markdown",
   "id": "053547fa-53dc-4818-8c10-b048491b9457",
   "metadata": {},
   "source": [
    "## Dictionaries\n",
    "#### Introduction"
   ]
  },
  {
   "cell_type": "code",
   "execution_count": 1,
   "id": "13c83bbf-3d9c-46b0-b8bf-6ce2ea44eb47",
   "metadata": {},
   "outputs": [],
   "source": [
    "dict1 = {}"
   ]
  },
  {
   "cell_type": "code",
   "execution_count": 2,
   "id": "cb0db5cb-d52d-4edc-b378-dd860ce203b2",
   "metadata": {},
   "outputs": [
    {
     "data": {
      "text/plain": [
       "{}"
      ]
     },
     "execution_count": 2,
     "metadata": {},
     "output_type": "execute_result"
    }
   ],
   "source": [
    "dict1"
   ]
  },
  {
   "cell_type": "code",
   "execution_count": 3,
   "id": "12383600-476a-4ee6-8928-e5a68147570c",
   "metadata": {},
   "outputs": [
    {
     "data": {
      "text/plain": [
       "dict"
      ]
     },
     "execution_count": 3,
     "metadata": {},
     "output_type": "execute_result"
    }
   ],
   "source": [
    "type(dict1)"
   ]
  },
  {
   "cell_type": "code",
   "execution_count": 5,
   "id": "077548df-ba5c-4f6a-9455-66e79b204d40",
   "metadata": {},
   "outputs": [],
   "source": [
    "dict1 = {\"Vendor\": \"Cisco\", \"Model\": \"2600\", \"IOS\": \"12.4\", \"Ports\": \"4\"}"
   ]
  },
  {
   "cell_type": "code",
   "execution_count": 6,
   "id": "d02d2630-963c-4a3b-950d-d07b49492ab3",
   "metadata": {},
   "outputs": [],
   "source": [
    "d1 = {1: \"First element\", 2: \"Second element\"}"
   ]
  },
  {
   "cell_type": "code",
   "execution_count": 7,
   "id": "b1e49af1-71d1-4b98-9f3d-3968f60100d2",
   "metadata": {},
   "outputs": [
    {
     "data": {
      "text/plain": [
       "{'Vendor': 'Cisco', 'Model': '2600', 'IOS': '12.4', 'Ports': '4'}"
      ]
     },
     "execution_count": 7,
     "metadata": {},
     "output_type": "execute_result"
    }
   ],
   "source": [
    "dict1"
   ]
  },
  {
   "cell_type": "markdown",
   "id": "a880c2f3-551a-474e-95e6-0397635918e7",
   "metadata": {},
   "source": [
    "### Methods"
   ]
  },
  {
   "cell_type": "code",
   "execution_count": 8,
   "id": "ad7bb84e-0c2b-4b3b-b6df-f846b39a3abd",
   "metadata": {},
   "outputs": [
    {
     "data": {
      "text/plain": [
       "'12.4'"
      ]
     },
     "execution_count": 8,
     "metadata": {},
     "output_type": "execute_result"
    }
   ],
   "source": [
    "dict1[\"IOS\"]"
   ]
  },
  {
   "cell_type": "code",
   "execution_count": 10,
   "id": "7490fd17-9795-47dc-9a4b-0bce145deb28",
   "metadata": {},
   "outputs": [
    {
     "data": {
      "text/plain": [
       "'Cisco'"
      ]
     },
     "execution_count": 10,
     "metadata": {},
     "output_type": "execute_result"
    }
   ],
   "source": [
    "dict1[\"Vendor\"]"
   ]
  },
  {
   "cell_type": "code",
   "execution_count": 11,
   "id": "9b15588f-64ac-413a-83bb-333c5907ce6d",
   "metadata": {},
   "outputs": [],
   "source": [
    "dict1[\"RAM\"] = \"128\""
   ]
  },
  {
   "cell_type": "code",
   "execution_count": 13,
   "id": "dbff8e97-16aa-42b4-999c-ed524034dd31",
   "metadata": {},
   "outputs": [
    {
     "data": {
      "text/plain": [
       "{'Vendor': 'Cisco', 'Model': '2600', 'IOS': '12.4', 'Ports': '4', 'RAM': '128'}"
      ]
     },
     "execution_count": 13,
     "metadata": {},
     "output_type": "execute_result"
    }
   ],
   "source": [
    "dict1"
   ]
  },
  {
   "cell_type": "code",
   "execution_count": 14,
   "id": "b4986927-6d4e-4577-8307-bd5e71d60e40",
   "metadata": {},
   "outputs": [],
   "source": [
    "dict1[\"IOS\"] = \"12.3\""
   ]
  },
  {
   "cell_type": "code",
   "execution_count": 15,
   "id": "1efb4d7f-37be-4bc8-a7d3-6ed84e8bd949",
   "metadata": {},
   "outputs": [
    {
     "data": {
      "text/plain": [
       "{'Vendor': 'Cisco', 'Model': '2600', 'IOS': '12.3', 'Ports': '4', 'RAM': '128'}"
      ]
     },
     "execution_count": 15,
     "metadata": {},
     "output_type": "execute_result"
    }
   ],
   "source": [
    "dict1"
   ]
  },
  {
   "cell_type": "code",
   "execution_count": 16,
   "id": "13507218-4f52-4288-8f23-eb252f815ad6",
   "metadata": {},
   "outputs": [],
   "source": [
    "del dict1[\"Ports\"]"
   ]
  },
  {
   "cell_type": "code",
   "execution_count": 17,
   "id": "c5c5090e-355c-4d9d-b10a-a486db3d033f",
   "metadata": {},
   "outputs": [
    {
     "data": {
      "text/plain": [
       "{'Vendor': 'Cisco', 'Model': '2600', 'IOS': '12.3', 'RAM': '128'}"
      ]
     },
     "execution_count": 17,
     "metadata": {},
     "output_type": "execute_result"
    }
   ],
   "source": [
    "dict1"
   ]
  },
  {
   "cell_type": "code",
   "execution_count": 18,
   "id": "511f2776-9704-4b5f-b341-6a1c33ad316f",
   "metadata": {},
   "outputs": [
    {
     "data": {
      "text/plain": [
       "4"
      ]
     },
     "execution_count": 18,
     "metadata": {},
     "output_type": "execute_result"
    }
   ],
   "source": [
    "len(dict1)"
   ]
  },
  {
   "cell_type": "code",
   "execution_count": 19,
   "id": "ce1d70b2-810c-4725-bb67-87dbd1e9f7c9",
   "metadata": {},
   "outputs": [
    {
     "data": {
      "text/plain": [
       "True"
      ]
     },
     "execution_count": 19,
     "metadata": {},
     "output_type": "execute_result"
    }
   ],
   "source": [
    "\"IOS\" in dict1"
   ]
  },
  {
   "cell_type": "code",
   "execution_count": 20,
   "id": "a475fb38-aad8-4530-a65e-8c72b0c9dc7c",
   "metadata": {},
   "outputs": [
    {
     "data": {
      "text/plain": [
       "False"
      ]
     },
     "execution_count": 20,
     "metadata": {},
     "output_type": "execute_result"
    }
   ],
   "source": [
    "\"IOS2\" in dict1"
   ]
  },
  {
   "cell_type": "code",
   "execution_count": 21,
   "id": "f9cad172-8f3d-4f20-9d76-a5d74425604c",
   "metadata": {},
   "outputs": [
    {
     "data": {
      "text/plain": [
       "True"
      ]
     },
     "execution_count": 21,
     "metadata": {},
     "output_type": "execute_result"
    }
   ],
   "source": [
    "\"IOS2\" not in dict1"
   ]
  },
  {
   "cell_type": "code",
   "execution_count": 22,
   "id": "56a2220f-6128-42c9-ad82-e555a93d2256",
   "metadata": {},
   "outputs": [
    {
     "data": {
      "text/plain": [
       "dict_keys(['Vendor', 'Model', 'IOS', 'RAM'])"
      ]
     },
     "execution_count": 22,
     "metadata": {},
     "output_type": "execute_result"
    }
   ],
   "source": [
    "dict1.keys()"
   ]
  },
  {
   "cell_type": "code",
   "execution_count": 23,
   "id": "0b7405b5-4d00-43bd-9ebf-418994c6da85",
   "metadata": {},
   "outputs": [
    {
     "data": {
      "text/plain": [
       "dict_values(['Cisco', '2600', '12.3', '128'])"
      ]
     },
     "execution_count": 23,
     "metadata": {},
     "output_type": "execute_result"
    }
   ],
   "source": [
    "dict1.values()"
   ]
  },
  {
   "cell_type": "code",
   "execution_count": 24,
   "id": "67e8c9df-4e96-4a18-b9a0-bbee05ccb54d",
   "metadata": {},
   "outputs": [
    {
     "data": {
      "text/plain": [
       "dict_items([('Vendor', 'Cisco'), ('Model', '2600'), ('IOS', '12.3'), ('RAM', '128')])"
      ]
     },
     "execution_count": 24,
     "metadata": {},
     "output_type": "execute_result"
    }
   ],
   "source": [
    "dict1.items()"
   ]
  },
  {
   "cell_type": "code",
   "execution_count": 25,
   "id": "3afa5475-ec89-48c4-8861-c9d493532b9e",
   "metadata": {},
   "outputs": [
    {
     "data": {
      "text/plain": [
       "dict_keys"
      ]
     },
     "execution_count": 25,
     "metadata": {},
     "output_type": "execute_result"
    }
   ],
   "source": [
    "type(dict1.keys())"
   ]
  },
  {
   "cell_type": "code",
   "execution_count": 26,
   "id": "9d99f61d-a3ff-4789-a4a7-fa9b5ec366d4",
   "metadata": {},
   "outputs": [
    {
     "data": {
      "text/plain": [
       "dict_values"
      ]
     },
     "execution_count": 26,
     "metadata": {},
     "output_type": "execute_result"
    }
   ],
   "source": [
    "type(dict1.values())"
   ]
  },
  {
   "cell_type": "code",
   "execution_count": 27,
   "id": "24590318-d3fa-41f0-bffa-31d89953e1fa",
   "metadata": {},
   "outputs": [
    {
     "data": {
      "text/plain": [
       "dict_keys"
      ]
     },
     "execution_count": 27,
     "metadata": {},
     "output_type": "execute_result"
    }
   ],
   "source": [
    "type(dict1.keys())"
   ]
  },
  {
   "cell_type": "code",
   "execution_count": 28,
   "id": "ba12a8eb-ee24-46bf-96a1-e0478c4d9adc",
   "metadata": {},
   "outputs": [
    {
     "data": {
      "text/plain": [
       "['Cisco', '2600', '12.3', '128']"
      ]
     },
     "execution_count": 28,
     "metadata": {},
     "output_type": "execute_result"
    }
   ],
   "source": [
    "list(dict1.values())"
   ]
  },
  {
   "cell_type": "code",
   "execution_count": 29,
   "id": "b91b8448-ebdc-47b7-a387-409e71a99666",
   "metadata": {},
   "outputs": [
    {
     "data": {
      "text/plain": [
       "[('Vendor', 'Cisco'), ('Model', '2600'), ('IOS', '12.3'), ('RAM', '128')]"
      ]
     },
     "execution_count": 29,
     "metadata": {},
     "output_type": "execute_result"
    }
   ],
   "source": [
    "list(dict1.items())"
   ]
  },
  {
   "cell_type": "markdown",
   "id": "66830ed9-404d-4d88-a6fc-64542cb1df54",
   "metadata": {},
   "source": [
    "### Converstion Between Data Types"
   ]
  },
  {
   "cell_type": "code",
   "execution_count": 30,
   "id": "edce7801-324f-4fab-a20e-1e8593403cdb",
   "metadata": {},
   "outputs": [],
   "source": [
    "num =2 "
   ]
  },
  {
   "cell_type": "code",
   "execution_count": 31,
   "id": "e9ae5ae6-c59a-471e-9d29-c77cb98b18cd",
   "metadata": {},
   "outputs": [],
   "source": [
    "f = 2.5"
   ]
  },
  {
   "cell_type": "code",
   "execution_count": 32,
   "id": "62aec076-91c4-462e-8a5e-986efa1ed4c9",
   "metadata": {},
   "outputs": [
    {
     "data": {
      "text/plain": [
       "int"
      ]
     },
     "execution_count": 32,
     "metadata": {},
     "output_type": "execute_result"
    }
   ],
   "source": [
    "type(num)"
   ]
  },
  {
   "cell_type": "code",
   "execution_count": 33,
   "id": "a180a403-5726-4b36-8fb5-ec59c1d605c5",
   "metadata": {},
   "outputs": [
    {
     "data": {
      "text/plain": [
       "float"
      ]
     },
     "execution_count": 33,
     "metadata": {},
     "output_type": "execute_result"
    }
   ],
   "source": [
    "type(f)"
   ]
  },
  {
   "cell_type": "code",
   "execution_count": 35,
   "id": "59028852-d3db-4ca6-afd8-feeed946fcdc",
   "metadata": {},
   "outputs": [],
   "source": [
    "num2 = str(num)"
   ]
  },
  {
   "cell_type": "code",
   "execution_count": 36,
   "id": "0622d5eb-dc93-4839-ab6a-3fc9e25d40dd",
   "metadata": {},
   "outputs": [
    {
     "data": {
      "text/plain": [
       "'2'"
      ]
     },
     "execution_count": 36,
     "metadata": {},
     "output_type": "execute_result"
    }
   ],
   "source": [
    "num2"
   ]
  },
  {
   "cell_type": "code",
   "execution_count": 37,
   "id": "6634140e-a111-4cf1-bcd5-85b4e567eb7b",
   "metadata": {},
   "outputs": [
    {
     "data": {
      "text/plain": [
       "str"
      ]
     },
     "execution_count": 37,
     "metadata": {},
     "output_type": "execute_result"
    }
   ],
   "source": [
    "type(num2)"
   ]
  },
  {
   "cell_type": "code",
   "execution_count": 38,
   "id": "f347758f-67f8-4cac-9fda-700a242d40e9",
   "metadata": {},
   "outputs": [],
   "source": [
    "f2 = str(f)"
   ]
  },
  {
   "cell_type": "code",
   "execution_count": 39,
   "id": "828e1c62-d3c8-4c06-98cc-0b74d65dc341",
   "metadata": {},
   "outputs": [
    {
     "data": {
      "text/plain": [
       "'2.5'"
      ]
     },
     "execution_count": 39,
     "metadata": {},
     "output_type": "execute_result"
    }
   ],
   "source": [
    "f2"
   ]
  },
  {
   "cell_type": "code",
   "execution_count": 40,
   "id": "538e8d55-13bb-4c19-a0b3-7093f8faf653",
   "metadata": {},
   "outputs": [
    {
     "data": {
      "text/plain": [
       "str"
      ]
     },
     "execution_count": 40,
     "metadata": {},
     "output_type": "execute_result"
    }
   ],
   "source": [
    "type(f2)"
   ]
  },
  {
   "cell_type": "code",
   "execution_count": 41,
   "id": "5c6db555-af10-4857-bed0-37c7f656b24b",
   "metadata": {},
   "outputs": [],
   "source": [
    "str = \"5\""
   ]
  },
  {
   "cell_type": "code",
   "execution_count": 42,
   "id": "e483b743-c249-4fba-a9da-932783b34e5a",
   "metadata": {},
   "outputs": [
    {
     "data": {
      "text/plain": [
       "str"
      ]
     },
     "execution_count": 42,
     "metadata": {},
     "output_type": "execute_result"
    }
   ],
   "source": [
    "type(str)"
   ]
  },
  {
   "cell_type": "code",
   "execution_count": 43,
   "id": "3f883ab8-34da-4c00-b60a-1388de45e457",
   "metadata": {},
   "outputs": [],
   "source": [
    "str1 = \"5\""
   ]
  },
  {
   "cell_type": "code",
   "execution_count": 44,
   "id": "0eae4dfa-4ea4-482f-8383-c0ee67a9c4be",
   "metadata": {},
   "outputs": [
    {
     "data": {
      "text/plain": [
       "str"
      ]
     },
     "execution_count": 44,
     "metadata": {},
     "output_type": "execute_result"
    }
   ],
   "source": [
    "type(str1)"
   ]
  },
  {
   "cell_type": "code",
   "execution_count": 45,
   "id": "35a9dbe3-006d-4cb6-afdb-34072faf66cb",
   "metadata": {},
   "outputs": [],
   "source": [
    "int1 = int(str1)"
   ]
  },
  {
   "cell_type": "code",
   "execution_count": 46,
   "id": "a35afe15-6385-4c0b-aac5-25b1abdfb917",
   "metadata": {},
   "outputs": [
    {
     "data": {
      "text/plain": [
       "5"
      ]
     },
     "execution_count": 46,
     "metadata": {},
     "output_type": "execute_result"
    }
   ],
   "source": [
    "int1"
   ]
  },
  {
   "cell_type": "code",
   "execution_count": 47,
   "id": "cfd903de-b893-4d70-9023-e50069552d30",
   "metadata": {},
   "outputs": [
    {
     "data": {
      "text/plain": [
       "int"
      ]
     },
     "execution_count": 47,
     "metadata": {},
     "output_type": "execute_result"
    }
   ],
   "source": [
    "type(int1)"
   ]
  },
  {
   "cell_type": "code",
   "execution_count": 48,
   "id": "31dd4187-82ef-45dd-a111-ba35b150022e",
   "metadata": {},
   "outputs": [],
   "source": [
    "f3 = float(str1)"
   ]
  },
  {
   "cell_type": "code",
   "execution_count": 49,
   "id": "d67c5d93-f806-448f-979a-812ae840a951",
   "metadata": {},
   "outputs": [
    {
     "data": {
      "text/plain": [
       "float"
      ]
     },
     "execution_count": 49,
     "metadata": {},
     "output_type": "execute_result"
    }
   ],
   "source": [
    "type(f3)"
   ]
  },
  {
   "cell_type": "code",
   "execution_count": 50,
   "id": "39097f87-57ce-4dce-ae76-d28e5be26dc9",
   "metadata": {},
   "outputs": [],
   "source": [
    "num1 = 2"
   ]
  },
  {
   "cell_type": "code",
   "execution_count": 51,
   "id": "15edff15-958c-4688-83fe-31f995516603",
   "metadata": {},
   "outputs": [
    {
     "data": {
      "text/plain": [
       "2"
      ]
     },
     "execution_count": 51,
     "metadata": {},
     "output_type": "execute_result"
    }
   ],
   "source": [
    "num1"
   ]
  },
  {
   "cell_type": "code",
   "execution_count": 52,
   "id": "e4562627-3881-438c-8d6d-c80dde1f8519",
   "metadata": {},
   "outputs": [
    {
     "data": {
      "text/plain": [
       "int"
      ]
     },
     "execution_count": 52,
     "metadata": {},
     "output_type": "execute_result"
    }
   ],
   "source": [
    "type(num1)"
   ]
  },
  {
   "cell_type": "code",
   "execution_count": 53,
   "id": "8f66ab78-21db-4fee-bfb1-54bf4a67762b",
   "metadata": {},
   "outputs": [],
   "source": [
    "f = float(num1)"
   ]
  },
  {
   "cell_type": "code",
   "execution_count": 54,
   "id": "16ad0275-2cb8-4df0-9fe9-049f0b162b33",
   "metadata": {},
   "outputs": [
    {
     "data": {
      "text/plain": [
       "float"
      ]
     },
     "execution_count": 54,
     "metadata": {},
     "output_type": "execute_result"
    }
   ],
   "source": [
    "type(f)"
   ]
  },
  {
   "cell_type": "code",
   "execution_count": 55,
   "id": "5ab680ee-deab-481e-b751-c621ced7430e",
   "metadata": {},
   "outputs": [
    {
     "data": {
      "text/plain": [
       "2.0"
      ]
     },
     "execution_count": 55,
     "metadata": {},
     "output_type": "execute_result"
    }
   ],
   "source": [
    "f"
   ]
  },
  {
   "cell_type": "code",
   "execution_count": 56,
   "id": "f565f2f2-51a7-4e59-be80-7e0c0412fb36",
   "metadata": {},
   "outputs": [],
   "source": [
    "f1 = int(f)"
   ]
  },
  {
   "cell_type": "code",
   "execution_count": 57,
   "id": "f5eaf2a1-8b5d-40e6-bc79-899c7d1fee86",
   "metadata": {},
   "outputs": [
    {
     "data": {
      "text/plain": [
       "2"
      ]
     },
     "execution_count": 57,
     "metadata": {},
     "output_type": "execute_result"
    }
   ],
   "source": [
    "f1"
   ]
  },
  {
   "cell_type": "code",
   "execution_count": 58,
   "id": "60d130c8-5d24-41b0-9a7e-550e53034e2b",
   "metadata": {},
   "outputs": [
    {
     "data": {
      "text/plain": [
       "int"
      ]
     },
     "execution_count": 58,
     "metadata": {},
     "output_type": "execute_result"
    }
   ],
   "source": [
    "type(f1)"
   ]
  },
  {
   "cell_type": "code",
   "execution_count": 59,
   "id": "197f7e7a-dd20-4469-9a0b-d256a8e84678",
   "metadata": {},
   "outputs": [],
   "source": [
    "tupl1 = (1,2,3)"
   ]
  },
  {
   "cell_type": "code",
   "execution_count": 61,
   "id": "f0cc6123-135a-4df4-93e1-1a3600eec0e2",
   "metadata": {},
   "outputs": [
    {
     "data": {
      "text/plain": [
       "tuple"
      ]
     },
     "execution_count": 61,
     "metadata": {},
     "output_type": "execute_result"
    }
   ],
   "source": [
    "type(tupl1)"
   ]
  },
  {
   "cell_type": "code",
   "execution_count": 62,
   "id": "13b21eeb-77f0-4971-95fa-24e4e05feded",
   "metadata": {},
   "outputs": [],
   "source": [
    "list1 = list(tupl1)"
   ]
  },
  {
   "cell_type": "code",
   "execution_count": 63,
   "id": "542a50d8-f988-4612-ba9f-0de9029428b9",
   "metadata": {},
   "outputs": [
    {
     "data": {
      "text/plain": [
       "list"
      ]
     },
     "execution_count": 63,
     "metadata": {},
     "output_type": "execute_result"
    }
   ],
   "source": [
    "type(list1)"
   ]
  },
  {
   "cell_type": "code",
   "execution_count": 64,
   "id": "2686886a-6119-4b45-9423-7528b7cee5ae",
   "metadata": {},
   "outputs": [
    {
     "data": {
      "text/plain": [
       "[1, 2, 3]"
      ]
     },
     "execution_count": 64,
     "metadata": {},
     "output_type": "execute_result"
    }
   ],
   "source": [
    "list1"
   ]
  },
  {
   "cell_type": "code",
   "execution_count": 65,
   "id": "d0b2684b-df26-4477-8ec9-c3fb57014c8c",
   "metadata": {},
   "outputs": [],
   "source": [
    "tup = tuple(list1)"
   ]
  },
  {
   "cell_type": "code",
   "execution_count": 66,
   "id": "459353b8-4497-4b69-9055-e629276bfcb0",
   "metadata": {},
   "outputs": [
    {
     "data": {
      "text/plain": [
       "(1, 2, 3)"
      ]
     },
     "execution_count": 66,
     "metadata": {},
     "output_type": "execute_result"
    }
   ],
   "source": [
    "tup"
   ]
  },
  {
   "cell_type": "code",
   "execution_count": 67,
   "id": "71bddf70-2a1f-4923-9aba-65a658735332",
   "metadata": {},
   "outputs": [
    {
     "data": {
      "text/plain": [
       "[1, 2, 3]"
      ]
     },
     "execution_count": 67,
     "metadata": {},
     "output_type": "execute_result"
    }
   ],
   "source": [
    "list1"
   ]
  },
  {
   "cell_type": "code",
   "execution_count": 68,
   "id": "b112a993-1e8b-4f8c-b693-096fef7e74f1",
   "metadata": {},
   "outputs": [],
   "source": [
    "set1 = set(list1)"
   ]
  },
  {
   "cell_type": "code",
   "execution_count": 69,
   "id": "dec97700-28de-46c0-9808-0dfd87eca8c2",
   "metadata": {},
   "outputs": [
    {
     "data": {
      "text/plain": [
       "set"
      ]
     },
     "execution_count": 69,
     "metadata": {},
     "output_type": "execute_result"
    }
   ],
   "source": [
    "type(set1)"
   ]
  },
  {
   "cell_type": "code",
   "execution_count": 70,
   "id": "d6d34dbc-5f00-4ecb-823f-061396b40dfe",
   "metadata": {},
   "outputs": [],
   "source": [
    "num = 10"
   ]
  },
  {
   "cell_type": "code",
   "execution_count": 71,
   "id": "a4cbd0e5-249c-4d34-b675-b16b2a54623c",
   "metadata": {},
   "outputs": [],
   "source": [
    "num_bin = bin(num)"
   ]
  },
  {
   "cell_type": "code",
   "execution_count": 72,
   "id": "a511fdc7-21f5-44f8-9609-c0db98a10ff4",
   "metadata": {},
   "outputs": [
    {
     "data": {
      "text/plain": [
       "'0b1010'"
      ]
     },
     "execution_count": 72,
     "metadata": {},
     "output_type": "execute_result"
    }
   ],
   "source": [
    "num_bin"
   ]
  },
  {
   "cell_type": "code",
   "execution_count": 73,
   "id": "9d6e979b-0a23-4a3c-bce0-8c4c1248d661",
   "metadata": {},
   "outputs": [],
   "source": [
    "num_hex = hex(num)"
   ]
  },
  {
   "cell_type": "code",
   "execution_count": 74,
   "id": "5be60edb-bacd-435c-a54d-2f21b3f4ea30",
   "metadata": {},
   "outputs": [
    {
     "data": {
      "text/plain": [
       "'0xa'"
      ]
     },
     "execution_count": 74,
     "metadata": {},
     "output_type": "execute_result"
    }
   ],
   "source": [
    "num_hex"
   ]
  },
  {
   "cell_type": "code",
   "execution_count": 75,
   "id": "11a98074-e0fd-4b0c-928e-cd5bff02e07f",
   "metadata": {},
   "outputs": [],
   "source": [
    "# when converting from bin back to decimal, you need to specify 2 as arugemnts of the int \n",
    "# function have to use 2 as the base\n",
    "bin_to_num = int(num_bin, 2)"
   ]
  },
  {
   "cell_type": "code",
   "execution_count": 76,
   "id": "c7b015ec-6c8a-4ee1-ab5a-4788297c6484",
   "metadata": {},
   "outputs": [
    {
     "data": {
      "text/plain": [
       "10"
      ]
     },
     "execution_count": 76,
     "metadata": {},
     "output_type": "execute_result"
    }
   ],
   "source": [
    "bin_to_num"
   ]
  },
  {
   "cell_type": "code",
   "execution_count": 77,
   "id": "bc7797bc-50c5-4784-b6e0-7135732af94a",
   "metadata": {},
   "outputs": [],
   "source": [
    "# when converting from hex back to deciaml, you have to use 16 as the base\n",
    "hex_to_num = int(num_hex, 16)"
   ]
  },
  {
   "cell_type": "code",
   "execution_count": 78,
   "id": "12de05fd-ac93-4c09-907d-9e0e0b40dee2",
   "metadata": {},
   "outputs": [
    {
     "data": {
      "text/plain": [
       "10"
      ]
     },
     "execution_count": 78,
     "metadata": {},
     "output_type": "execute_result"
    }
   ],
   "source": [
    "hex_to_num"
   ]
  },
  {
   "cell_type": "code",
   "execution_count": null,
   "id": "3f75ae1f-2227-4056-90fe-a9e15a20a30d",
   "metadata": {},
   "outputs": [],
   "source": []
  }
 ],
 "metadata": {
  "kernelspec": {
   "display_name": "Python 3",
   "language": "python",
   "name": "python3"
  },
  "language_info": {
   "codemirror_mode": {
    "name": "ipython",
    "version": 3
   },
   "file_extension": ".py",
   "mimetype": "text/x-python",
   "name": "python",
   "nbconvert_exporter": "python",
   "pygments_lexer": "ipython3",
   "version": "3.8.8"
  }
 },
 "nbformat": 4,
 "nbformat_minor": 5
}
