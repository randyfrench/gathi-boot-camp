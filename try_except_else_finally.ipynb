{
 "cells": [
  {
   "cell_type": "markdown",
   "id": "e82ba950-73a7-4436-a735-9742ed43eea1",
   "metadata": {},
   "source": [
    "## Try / Except / Else / Finally"
   ]
  },
  {
   "cell_type": "code",
   "execution_count": 1,
   "id": "673cfca3-705f-41f5-bc0b-4e92fb57493b",
   "metadata": {},
   "outputs": [
    {
     "ename": "SyntaxError",
     "evalue": "unexpected EOF while parsing (<ipython-input-1-140db1a24b88>, line 3)",
     "output_type": "error",
     "traceback": [
      "\u001b[0;36m  File \u001b[0;32m\"<ipython-input-1-140db1a24b88>\"\u001b[0;36m, line \u001b[0;32m3\u001b[0m\n\u001b[0;31m    print(i / 0)\u001b[0m\n\u001b[0m                ^\u001b[0m\n\u001b[0;31mSyntaxError\u001b[0m\u001b[0;31m:\u001b[0m unexpected EOF while parsing\n"
     ]
    }
   ],
   "source": [
    "for i in range(5):\n",
    "    try:\n",
    "        print(i / 0)"
   ]
  },
  {
   "cell_type": "code",
   "execution_count": 3,
   "id": "b1dd4ad5-a31a-4dc2-9849-d250c0d77d66",
   "metadata": {},
   "outputs": [
    {
     "name": "stdout",
     "output_type": "stream",
     "text": [
      "division by zero --> Division by 0 is not allowed, Potlicker!\n",
      "division by zero --> Division by 0 is not allowed, Potlicker!\n",
      "division by zero --> Division by 0 is not allowed, Potlicker!\n",
      "division by zero --> Division by 0 is not allowed, Potlicker!\n",
      "division by zero --> Division by 0 is not allowed, Potlicker!\n"
     ]
    }
   ],
   "source": [
    "for i in range(5):\n",
    "    try:\n",
    "        print(i / 0)\n",
    "    except ZeroDivisionError as e:\n",
    "        print(e, \"--> Division by 0 is not allowed, Potlicker!\")"
   ]
  },
  {
   "cell_type": "code",
   "execution_count": 5,
   "id": "a8e85673-3a99-463b-b7f8-d6bc2a81c42b",
   "metadata": {},
   "outputs": [
    {
     "ename": "ZeroDivisionError",
     "evalue": "division by zero",
     "output_type": "error",
     "traceback": [
      "\u001b[0;31m---------------------------------------------------------------------------\u001b[0m",
      "\u001b[0;31mZeroDivisionError\u001b[0m                         Traceback (most recent call last)",
      "\u001b[0;32m<ipython-input-5-a6e0fa334825>\u001b[0m in \u001b[0;36m<module>\u001b[0;34m\u001b[0m\n\u001b[1;32m      1\u001b[0m \u001b[0;32mfor\u001b[0m \u001b[0mv\u001b[0m \u001b[0;32min\u001b[0m \u001b[0mrange\u001b[0m\u001b[0;34m(\u001b[0m\u001b[0;36m5\u001b[0m\u001b[0;34m)\u001b[0m\u001b[0;34m:\u001b[0m\u001b[0;34m\u001b[0m\u001b[0;34m\u001b[0m\u001b[0m\n\u001b[1;32m      2\u001b[0m     \u001b[0;32mtry\u001b[0m\u001b[0;34m:\u001b[0m\u001b[0;34m\u001b[0m\u001b[0;34m\u001b[0m\u001b[0m\n\u001b[0;32m----> 3\u001b[0;31m         \u001b[0mprint\u001b[0m\u001b[0;34m(\u001b[0m\u001b[0mv\u001b[0m \u001b[0;34m/\u001b[0m \u001b[0;36m0\u001b[0m\u001b[0;34m)\u001b[0m\u001b[0;34m\u001b[0m\u001b[0;34m\u001b[0m\u001b[0m\n\u001b[0m\u001b[1;32m      4\u001b[0m     \u001b[0;32mexcept\u001b[0m \u001b[0mNameError\u001b[0m\u001b[0;34m:\u001b[0m\u001b[0;34m\u001b[0m\u001b[0;34m\u001b[0m\u001b[0m\n\u001b[1;32m      5\u001b[0m         \u001b[0mprint\u001b[0m\u001b[0;34m(\u001b[0m\u001b[0;34m\"You have a name error in your code!\"\u001b[0m\u001b[0;34m)\u001b[0m\u001b[0;34m\u001b[0m\u001b[0;34m\u001b[0m\u001b[0m\n",
      "\u001b[0;31mZeroDivisionError\u001b[0m: division by zero"
     ]
    }
   ],
   "source": [
    "for v in range(5):\n",
    "    try:\n",
    "        print(v / 0)\n",
    "    except NameError:\n",
    "        print(\"You have a name error in your code!\")"
   ]
  },
  {
   "cell_type": "code",
   "execution_count": 6,
   "id": "5e41fa2a-305c-4e5d-9f9e-21206381986b",
   "metadata": {},
   "outputs": [
    {
     "name": "stdout",
     "output_type": "stream",
     "text": [
      "0.0\n",
      "The rest of the code...\n",
      "1.0\n",
      "The rest of the code...\n",
      "2.0\n",
      "The rest of the code...\n",
      "3.0\n",
      "The rest of the code...\n",
      "4.0\n",
      "The rest of the code...\n"
     ]
    }
   ],
   "source": [
    "for x in range(5):\n",
    "    try:\n",
    "        print(x / 1)\n",
    "    except ZeroDivisionError:\n",
    "        print(\"Division by 0 is just wrong!\")\n",
    "    print(\"The rest of the code...\")"
   ]
  },
  {
   "cell_type": "code",
   "execution_count": 7,
   "id": "33b9f26f-30a6-432f-8204-dc2f57d22d5b",
   "metadata": {},
   "outputs": [
    {
     "name": "stdout",
     "output_type": "stream",
     "text": [
      "0.0\n",
      "1.0\n",
      "2.0\n",
      "3.0\n",
      "4.0\n"
     ]
    }
   ],
   "source": [
    "for b in range(5):\n",
    "    try:\n",
    "        print(b / 1)\n",
    "    except ZeroDivisionError:\n",
    "        print(\"Division by 0 is just wrong!\")\n",
    "    except NameError:\n",
    "        print(\"Name error detected!\")\n",
    "    except ValueError:\n",
    "        print(\"Wrong value!\")"
   ]
  },
  {
   "cell_type": "code",
   "execution_count": 8,
   "id": "c62710a2-e4a3-4fbb-beaf-be26db567cc9",
   "metadata": {},
   "outputs": [
    {
     "name": "stdout",
     "output_type": "stream",
     "text": [
      "2.0\n",
      "No exceptions raised by the try block!\n"
     ]
    }
   ],
   "source": [
    "try:\n",
    "    print(4 / 2)\n",
    "except NameError:\n",
    "    print(\"Name Error!\")\n",
    "else:\n",
    "    print(\"No exceptions raised by the try block!\")"
   ]
  },
  {
   "cell_type": "code",
   "execution_count": 9,
   "id": "f8ccdec1-51dc-4128-b5e7-e92e1a27bcab",
   "metadata": {},
   "outputs": [
    {
     "name": "stdout",
     "output_type": "stream",
     "text": [
      "2.0\n",
      "I don't care, I'm getting printed either way!\n"
     ]
    }
   ],
   "source": [
    "try:\n",
    "    print(4 / 2)\n",
    "except NameError:\n",
    "    print(\"Name Error!\")\n",
    "finally:\n",
    "    print(\"I don't care, I'm getting printed either way!\")"
   ]
  },
  {
   "cell_type": "code",
   "execution_count": 10,
   "id": "f304adf4-3e57-4e3f-addd-c341197128e5",
   "metadata": {},
   "outputs": [
    {
     "name": "stdout",
     "output_type": "stream",
     "text": [
      "I don't care, I'm getting printed either way!\n"
     ]
    },
    {
     "ename": "ZeroDivisionError",
     "evalue": "division by zero",
     "output_type": "error",
     "traceback": [
      "\u001b[0;31m---------------------------------------------------------------------------\u001b[0m",
      "\u001b[0;31mZeroDivisionError\u001b[0m                         Traceback (most recent call last)",
      "\u001b[0;32m<ipython-input-10-d333668d9c82>\u001b[0m in \u001b[0;36m<module>\u001b[0;34m\u001b[0m\n\u001b[1;32m      1\u001b[0m \u001b[0;32mtry\u001b[0m\u001b[0;34m:\u001b[0m\u001b[0;34m\u001b[0m\u001b[0;34m\u001b[0m\u001b[0m\n\u001b[0;32m----> 2\u001b[0;31m     \u001b[0mprint\u001b[0m\u001b[0;34m(\u001b[0m\u001b[0;36m4\u001b[0m \u001b[0;34m/\u001b[0m \u001b[0;36m0\u001b[0m\u001b[0;34m)\u001b[0m\u001b[0;34m\u001b[0m\u001b[0;34m\u001b[0m\u001b[0m\n\u001b[0m\u001b[1;32m      3\u001b[0m \u001b[0;32mexcept\u001b[0m \u001b[0mNameError\u001b[0m\u001b[0;34m:\u001b[0m\u001b[0;34m\u001b[0m\u001b[0;34m\u001b[0m\u001b[0m\n\u001b[1;32m      4\u001b[0m     \u001b[0mprint\u001b[0m\u001b[0;34m(\u001b[0m\u001b[0;34m\"Name Error!\"\u001b[0m\u001b[0;34m)\u001b[0m\u001b[0;34m\u001b[0m\u001b[0;34m\u001b[0m\u001b[0m\n\u001b[1;32m      5\u001b[0m \u001b[0;32mfinally\u001b[0m\u001b[0;34m:\u001b[0m\u001b[0;34m\u001b[0m\u001b[0;34m\u001b[0m\u001b[0m\n",
      "\u001b[0;31mZeroDivisionError\u001b[0m: division by zero"
     ]
    }
   ],
   "source": [
    "try:\n",
    "    print(4 / 0)\n",
    "except NameError:\n",
    "    print(\"Name Error!\")\n",
    "finally:\n",
    "    print(\"I don't care, I'm getting printed either way!\")"
   ]
  },
  {
   "cell_type": "code",
   "execution_count": 14,
   "id": "c9a1d1df-e8ee-416f-bf83-f7691f079954",
   "metadata": {},
   "outputs": [
    {
     "name": "stdout",
     "output_type": "stream",
     "text": [
      "Not Allowed!!!\n",
      "I don't care, I'm getting printed either way!\n"
     ]
    }
   ],
   "source": [
    "try:\n",
    "    print(4 / 0)\n",
    "except ZeroDivisionError:\n",
    "    print(\"Not Allowed!!!\")\n",
    "finally:\n",
    "    print(\"I don't care, I'm getting printed either way!\")"
   ]
  },
  {
   "cell_type": "code",
   "execution_count": 15,
   "id": "d9e17c3d-9108-4afe-ba59-7b73ff752e54",
   "metadata": {},
   "outputs": [],
   "source": [
    "x = 2"
   ]
  },
  {
   "cell_type": "code",
   "execution_count": 16,
   "id": "286c73a0-88e5-4cac-9b0f-2d66362db255",
   "metadata": {},
   "outputs": [
    {
     "name": "stdout",
     "output_type": "stream",
     "text": [
      "2\n",
      "4\n",
      "6\n",
      "8\n"
     ]
    }
   ],
   "source": [
    "if x < 10:\n",
    "    for i in range(1, 5):\n",
    "        print(x * i)\n",
    "elif x > 10:\n",
    "    j = 1\n",
    "    while j < 5:\n",
    "        print(x * j)\n",
    "        j = j + 1\n",
    "else:\n",
    "    print(x ** 10)"
   ]
  },
  {
   "cell_type": "code",
   "execution_count": 17,
   "id": "aff660dd-6871-4d68-b7cd-f7d283206672",
   "metadata": {},
   "outputs": [],
   "source": [
    "x = 10"
   ]
  },
  {
   "cell_type": "code",
   "execution_count": 18,
   "id": "c1eab45e-124d-4998-a40b-adaa13726ff4",
   "metadata": {},
   "outputs": [
    {
     "name": "stdout",
     "output_type": "stream",
     "text": [
      "10000000000\n"
     ]
    }
   ],
   "source": [
    "print(x ** 10)"
   ]
  },
  {
   "cell_type": "code",
   "execution_count": null,
   "id": "16780d9a-7a2f-46c5-bed9-097ead040018",
   "metadata": {},
   "outputs": [],
   "source": []
  }
 ],
 "metadata": {
  "kernelspec": {
   "display_name": "Python 3",
   "language": "python",
   "name": "python3"
  },
  "language_info": {
   "codemirror_mode": {
    "name": "ipython",
    "version": 3
   },
   "file_extension": ".py",
   "mimetype": "text/x-python",
   "name": "python",
   "nbconvert_exporter": "python",
   "pygments_lexer": "ipython3",
   "version": "3.8.8"
  }
 },
 "nbformat": 4,
 "nbformat_minor": 5
}
