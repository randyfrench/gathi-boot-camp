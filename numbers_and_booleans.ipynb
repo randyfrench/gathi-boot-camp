{
 "cells": [
  {
   "cell_type": "markdown",
   "id": "c54e20a6-d8ea-4bc1-a6ac-f1a671bc7b4f",
   "metadata": {},
   "source": [
    "### Numbers and Booleans"
   ]
  },
  {
   "cell_type": "code",
   "execution_count": 114,
   "id": "1fa12c46-5504-4c7c-890d-77ebc47882e1",
   "metadata": {},
   "outputs": [],
   "source": [
    "num1 = 10\n",
    "num2 = 2.5\n"
   ]
  },
  {
   "cell_type": "code",
   "execution_count": 115,
   "id": "ac6a6424-4348-45af-bfde-bdb3f0846df6",
   "metadata": {},
   "outputs": [
    {
     "data": {
      "text/plain": [
       "int"
      ]
     },
     "execution_count": 115,
     "metadata": {},
     "output_type": "execute_result"
    }
   ],
   "source": [
    "type(num1)"
   ]
  }
 ],
 "metadata": {
  "kernelspec": {
   "display_name": "Python 3",
   "language": "python",
   "name": "python3"
  },
  "language_info": {
   "codemirror_mode": {
    "name": "ipython",
    "version": 3
   },
   "file_extension": ".py",
   "mimetype": "text/x-python",
   "name": "python",
   "nbconvert_exporter": "python",
   "pygments_lexer": "ipython3",
   "version": "3.8.8"
  }
 },
 "nbformat": 4,
 "nbformat_minor": 5
}
