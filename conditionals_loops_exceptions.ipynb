{
 "cells": [
  {
   "cell_type": "markdown",
   "id": "89a5d0b0-e5fd-411d-b6ef-2239b6e1209a",
   "metadata": {},
   "source": [
    "## Condtionals, Loops and Exceptions"
   ]
  },
  {
   "cell_type": "code",
   "execution_count": 1,
   "id": "6d302809-3f5a-4c18-b14b-cb7daccbafef",
   "metadata": {},
   "outputs": [],
   "source": [
    "x = 10"
   ]
  },
  {
   "cell_type": "code",
   "execution_count": 2,
   "id": "f17eb475-d0c1-4532-adf6-85c9ccac906a",
   "metadata": {},
   "outputs": [
    {
     "name": "stdout",
     "output_type": "stream",
     "text": [
      "x is greater than 5\n",
      "20\n"
     ]
    }
   ],
   "source": [
    "if x > 5:\n",
    "    print(\"x is greater than 5\")\n",
    "    print(x * 2)"
   ]
  },
  {
   "cell_type": "code",
   "execution_count": 4,
   "id": "694617a1-c71c-4996-bd4d-d80aaa2c841d",
   "metadata": {},
   "outputs": [],
   "source": [
    "x = 4"
   ]
  },
  {
   "cell_type": "code",
   "execution_count": 5,
   "id": "6636ab1f-5e73-4536-a645-3c8e1c16b527",
   "metadata": {},
   "outputs": [],
   "source": [
    "if x > 5:\n",
    "    print(\"x is greater than 5\")\n",
    "    print(x * 2)"
   ]
  },
  {
   "cell_type": "code",
   "execution_count": null,
   "id": "154fee1a-e806-40cb-a8fb-eaaf17a54d77",
   "metadata": {},
   "outputs": [],
   "source": []
  }
 ],
 "metadata": {
  "kernelspec": {
   "display_name": "Python 3",
   "language": "python",
   "name": "python3"
  },
  "language_info": {
   "codemirror_mode": {
    "name": "ipython",
    "version": 3
   },
   "file_extension": ".py",
   "mimetype": "text/x-python",
   "name": "python",
   "nbconvert_exporter": "python",
   "pygments_lexer": "ipython3",
   "version": "3.8.8"
  }
 },
 "nbformat": 4,
 "nbformat_minor": 5
}
