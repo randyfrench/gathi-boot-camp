{
 "cells": [
  {
   "cell_type": "markdown",
   "id": "89a5d0b0-e5fd-411d-b6ef-2239b6e1209a",
   "metadata": {},
   "source": [
    "## Condtionals, Loops and Exceptions"
   ]
  },
  {
   "cell_type": "code",
   "execution_count": 1,
   "id": "6d302809-3f5a-4c18-b14b-cb7daccbafef",
   "metadata": {},
   "outputs": [],
   "source": [
    "# True or False evaluation\n",
    "x = 10"
   ]
  },
  {
   "cell_type": "code",
   "execution_count": 2,
   "id": "f17eb475-d0c1-4532-adf6-85c9ccac906a",
   "metadata": {},
   "outputs": [
    {
     "name": "stdout",
     "output_type": "stream",
     "text": [
      "x is greater than 5\n",
      "20\n"
     ]
    }
   ],
   "source": [
    "if x > 5:\n",
    "    print(\"x is greater than 5\")\n",
    "    print(x * 2)"
   ]
  },
  {
   "cell_type": "code",
   "execution_count": 4,
   "id": "694617a1-c71c-4996-bd4d-d80aaa2c841d",
   "metadata": {},
   "outputs": [],
   "source": [
    "x = 4"
   ]
  },
  {
   "cell_type": "code",
   "execution_count": 6,
   "id": "6636ab1f-5e73-4536-a645-3c8e1c16b527",
   "metadata": {},
   "outputs": [
    {
     "name": "stdout",
     "output_type": "stream",
     "text": [
      "x is NOT greater than 5\n"
     ]
    }
   ],
   "source": [
    "if x > 5:\n",
    "    print(\"x is greater than 5\")\n",
    "    print(x * 2)\n",
    "else:\n",
    "    print(\"x is NOT greater than 5\")"
   ]
  },
  {
   "cell_type": "code",
   "execution_count": 7,
   "id": "154fee1a-e806-40cb-a8fb-eaaf17a54d77",
   "metadata": {},
   "outputs": [],
   "source": [
    "x = 5"
   ]
  },
  {
   "cell_type": "code",
   "execution_count": 8,
   "id": "e5b2fb8b-e0db-4412-a214-6748ab1bbcc9",
   "metadata": {},
   "outputs": [
    {
     "name": "stdout",
     "output_type": "stream",
     "text": [
      "x is 5\n"
     ]
    }
   ],
   "source": [
    "if x > 5:\n",
    "    print(\"x is greater than 5\")\n",
    "    print(x * 2)\n",
    "elif x == 5:\n",
    "    print(\"x is 5\")\n",
    "else:\n",
    "    print(\"x is NOT greater than 5\")"
   ]
  },
  {
   "cell_type": "code",
   "execution_count": 9,
   "id": "ff414a18-e5d9-40b8-9a5c-79c7a238f253",
   "metadata": {},
   "outputs": [
    {
     "name": "stdout",
     "output_type": "stream",
     "text": [
      "x equals 5. x is an interger\n",
      "5\n"
     ]
    }
   ],
   "source": [
    "if x == 5 and type(x) is int:\n",
    "    print(\"x equals 5. x is an interger\")\n",
    "    print(x)\n",
    "elif x == 10 and type(x) is int:\n",
    "    print(\"x is an interger, but is not equal to 5\")"
   ]
  },
  {
   "cell_type": "code",
   "execution_count": 10,
   "id": "e1c42880-b654-4c8b-a6f4-55a291a02c9e",
   "metadata": {},
   "outputs": [],
   "source": [
    "x = 10"
   ]
  },
  {
   "cell_type": "code",
   "execution_count": 11,
   "id": "47cfda34-0c2d-434e-818c-761930a936a6",
   "metadata": {},
   "outputs": [
    {
     "name": "stdout",
     "output_type": "stream",
     "text": [
      "x is an interger, but is not equal to 5\n"
     ]
    }
   ],
   "source": [
    "if x == 5 and type(x) is int:\n",
    "    print(\"x equals 5. x is an interger\")\n",
    "    print(x)\n",
    "elif x == 10 and type(x) is int:\n",
    "    print(\"x is an interger, but is not equal to 5\")"
   ]
  },
  {
   "cell_type": "code",
   "execution_count": 12,
   "id": "1477027e-db16-45b8-8179-4c3d23b2d3bf",
   "metadata": {},
   "outputs": [],
   "source": [
    "x = 100"
   ]
  },
  {
   "cell_type": "code",
   "execution_count": 13,
   "id": "97471c31-4f6b-4610-970f-1d8c44fb5fbc",
   "metadata": {},
   "outputs": [],
   "source": [
    "if x == 5 and type(x) is int:\n",
    "    print(\"x equals 5. x is an interger\")\n",
    "    print(x)\n",
    "elif x == 10 and type(x) is int:\n",
    "    print(\"x is an interger, but is not equal to 5\")"
   ]
  },
  {
   "cell_type": "code",
   "execution_count": null,
   "id": "72fa39e0-8aae-4b94-9ab1-6b5b288d4a7e",
   "metadata": {},
   "outputs": [],
   "source": []
  }
 ],
 "metadata": {
  "kernelspec": {
   "display_name": "Python 3",
   "language": "python",
   "name": "python3"
  },
  "language_info": {
   "codemirror_mode": {
    "name": "ipython",
    "version": 3
   },
   "file_extension": ".py",
   "mimetype": "text/x-python",
   "name": "python",
   "nbconvert_exporter": "python",
   "pygments_lexer": "ipython3",
   "version": "3.8.8"
  }
 },
 "nbformat": 4,
 "nbformat_minor": 5
}
