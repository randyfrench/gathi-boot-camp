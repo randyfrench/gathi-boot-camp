{
 "cells": [
  {
   "cell_type": "markdown",
   "id": "14f27b38-1e14-44a2-8869-642b01b1e6ef",
   "metadata": {},
   "source": [
    "### SQL Bootcamp 2022 on Udemy"
   ]
  },
  {
   "cell_type": "markdown",
   "id": "eaffad88-4ad2-46a2-9e3a-29906928f367",
   "metadata": {},
   "source": [
    "#### Getting in some understanding of Joins\n",
    "##### INNER JOIN\n",
    "##### OUTER JOIN\n",
    "##### FULL JOIN\n",
    "##### UNION"
   ]
  },
  {
   "cell_type": "code",
   "execution_count": null,
   "id": "5344f93d-491d-45d1-a500-c2ad8f4838a6",
   "metadata": {},
   "outputs": [],
   "source": []
  }
 ],
 "metadata": {
  "kernelspec": {
   "display_name": "Python 3",
   "language": "python",
   "name": "python3"
  },
  "language_info": {
   "codemirror_mode": {
    "name": "ipython",
    "version": 3
   },
   "file_extension": ".py",
   "mimetype": "text/x-python",
   "name": "python",
   "nbconvert_exporter": "python",
   "pygments_lexer": "ipython3",
   "version": "3.8.8"
  }
 },
 "nbformat": 4,
 "nbformat_minor": 5
}
