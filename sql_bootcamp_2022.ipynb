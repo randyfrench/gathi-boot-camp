{
 "cells": [
  {
   "cell_type": "markdown",
   "id": "14f27b38-1e14-44a2-8869-642b01b1e6ef",
   "metadata": {},
   "source": [
    "### SQL Bootcamp 2022 on Udemy"
   ]
  },
  {
   "cell_type": "markdown",
   "id": "eaffad88-4ad2-46a2-9e3a-29906928f367",
   "metadata": {},
   "source": [
    "#### Getting in some understanding of Joins\n",
    "##### INNER JOIN\n",
    "##### OUTER JOIN\n",
    "##### FULL JOIN\n",
    "##### UNION"
   ]
  },
  {
   "cell_type": "markdown",
   "id": "b80d9f34-e9af-4970-90f6-d354c2927025",
   "metadata": {},
   "source": [
    "## How to join three tables. example:\n",
    "- SELECT\n",
    "- student.first_name,\n",
    "- student.last_name,\n",
    "- course.name\n",
    "- FROM student\n",
    "- JOIN student_course\n",
    "- ON student.id = student_course.student.id\n",
    "- JOIN course\n",
    "- ON course.id = student_course.course_id;\n"
   ]
  },
  {
   "cell_type": "code",
   "execution_count": null,
   "id": "b5c2f430-5f39-4417-b470-8b97adb58d83",
   "metadata": {},
   "outputs": [],
   "source": []
  }
 ],
 "metadata": {
  "kernelspec": {
   "display_name": "Python 3",
   "language": "python",
   "name": "python3"
  },
  "language_info": {
   "codemirror_mode": {
    "name": "ipython",
    "version": 3
   },
   "file_extension": ".py",
   "mimetype": "text/x-python",
   "name": "python",
   "nbconvert_exporter": "python",
   "pygments_lexer": "ipython3",
   "version": "3.8.8"
  }
 },
 "nbformat": 4,
 "nbformat_minor": 5
}
