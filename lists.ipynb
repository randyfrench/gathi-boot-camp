{
 "cells": [
  {
   "cell_type": "code",
   "execution_count": 1,
   "id": "b9b32897-61ec-4007-acea-4a882f5c3f33",
   "metadata": {},
   "outputs": [],
   "source": [
    "### Lists"
   ]
  },
  {
   "cell_type": "code",
   "execution_count": 2,
   "id": "3110af27-6695-4896-aa46-9cc6363e00be",
   "metadata": {},
   "outputs": [],
   "source": [
    "list1 = []"
   ]
  },
  {
   "cell_type": "code",
   "execution_count": 3,
   "id": "e58369d7-6947-4745-bdec-6b616585aa61",
   "metadata": {},
   "outputs": [
    {
     "data": {
      "text/plain": [
       "list"
      ]
     },
     "execution_count": 3,
     "metadata": {},
     "output_type": "execute_result"
    }
   ],
   "source": [
    "type(list1)"
   ]
  },
  {
   "cell_type": "code",
   "execution_count": 4,
   "id": "05fd8798-c6cb-4903-82b7-237100738caf",
   "metadata": {},
   "outputs": [],
   "source": [
    "list1 =[\"Cisco\", \"Juniper\", \"Avaya\", 10, 10.5, -11]"
   ]
  },
  {
   "cell_type": "code",
   "execution_count": 5,
   "id": "d927157e-dfb1-4f2c-b738-773c807bfe7e",
   "metadata": {},
   "outputs": [
    {
     "data": {
      "text/plain": [
       "6"
      ]
     },
     "execution_count": 5,
     "metadata": {},
     "output_type": "execute_result"
    }
   ],
   "source": [
    "len(list1)"
   ]
  },
  {
   "cell_type": "code",
   "execution_count": 6,
   "id": "881f2201-2986-4c16-9ca9-b8e33458803f",
   "metadata": {},
   "outputs": [
    {
     "data": {
      "text/plain": [
       "'Cisco'"
      ]
     },
     "execution_count": 6,
     "metadata": {},
     "output_type": "execute_result"
    }
   ],
   "source": [
    "list1[0]"
   ]
  },
  {
   "cell_type": "code",
   "execution_count": 7,
   "id": "6493bfe8-8ede-4ece-8156-ef2877bfb144",
   "metadata": {},
   "outputs": [
    {
     "data": {
      "text/plain": [
       "'Juniper'"
      ]
     },
     "execution_count": 7,
     "metadata": {},
     "output_type": "execute_result"
    }
   ],
   "source": [
    "list1[1]"
   ]
  },
  {
   "cell_type": "code",
   "execution_count": 8,
   "id": "4912b6ad-82db-4af4-8bcb-0e8ca35ed1db",
   "metadata": {},
   "outputs": [
    {
     "data": {
      "text/plain": [
       "-11"
      ]
     },
     "execution_count": 8,
     "metadata": {},
     "output_type": "execute_result"
    }
   ],
   "source": [
    "list1[-1]"
   ]
  },
  {
   "cell_type": "code",
   "execution_count": 9,
   "id": "74b5fdda-bf0b-41f5-bd32-41ad4671a159",
   "metadata": {},
   "outputs": [
    {
     "data": {
      "text/plain": [
       "10.5"
      ]
     },
     "execution_count": 9,
     "metadata": {},
     "output_type": "execute_result"
    }
   ],
   "source": [
    "list1[-2]"
   ]
  },
  {
   "cell_type": "code",
   "execution_count": 10,
   "id": "3ebfa029-2577-42b3-8747-27681bf2554c",
   "metadata": {},
   "outputs": [
    {
     "ename": "IndexError",
     "evalue": "list index out of range",
     "output_type": "error",
     "traceback": [
      "\u001b[0;31m---------------------------------------------------------------------------\u001b[0m",
      "\u001b[0;31mIndexError\u001b[0m                                Traceback (most recent call last)",
      "\u001b[0;32m<ipython-input-10-c951c2fdab4f>\u001b[0m in \u001b[0;36m<module>\u001b[0;34m\u001b[0m\n\u001b[0;32m----> 1\u001b[0;31m \u001b[0mlist1\u001b[0m\u001b[0;34m[\u001b[0m\u001b[0;36m50\u001b[0m\u001b[0;34m]\u001b[0m\u001b[0;34m\u001b[0m\u001b[0;34m\u001b[0m\u001b[0m\n\u001b[0m",
      "\u001b[0;31mIndexError\u001b[0m: list index out of range"
     ]
    }
   ],
   "source": [
    "list1[50]"
   ]
  },
  {
   "cell_type": "code",
   "execution_count": 11,
   "id": "288bb8d3-9e2c-4137-9322-f4d3e0768f91",
   "metadata": {},
   "outputs": [
    {
     "data": {
      "text/plain": [
       "'Avaya'"
      ]
     },
     "execution_count": 11,
     "metadata": {},
     "output_type": "execute_result"
    }
   ],
   "source": [
    "list1[2]"
   ]
  },
  {
   "cell_type": "code",
   "execution_count": 12,
   "id": "764deb59-66a1-40c4-a655-9de93578eeed",
   "metadata": {},
   "outputs": [],
   "source": [
    "# Lists are mutable, they can be changed\n",
    "list1[2] = \"HP\""
   ]
  },
  {
   "cell_type": "code",
   "execution_count": 13,
   "id": "2946fbde-92e4-4fe0-a38e-3cbe5e87b501",
   "metadata": {},
   "outputs": [
    {
     "data": {
      "text/plain": [
       "['Cisco', 'Juniper', 'HP', 10, 10.5, -11]"
      ]
     },
     "execution_count": 13,
     "metadata": {},
     "output_type": "execute_result"
    }
   ],
   "source": [
    "list1"
   ]
  },
  {
   "cell_type": "markdown",
   "id": "ad344860-f4c9-4957-ac4b-d7d91790f332",
   "metadata": {},
   "source": [
    "#### Methods"
   ]
  },
  {
   "cell_type": "code",
   "execution_count": 14,
   "id": "a69471f7-fb84-4fcf-89ef-dff921086b1a",
   "metadata": {},
   "outputs": [],
   "source": [
    "list2 = [-11, 2, 12]"
   ]
  },
  {
   "cell_type": "code",
   "execution_count": 15,
   "id": "057bc2ee-078c-4ccd-ba04-7d15d04beca3",
   "metadata": {},
   "outputs": [
    {
     "data": {
      "text/plain": [
       "-11"
      ]
     },
     "execution_count": 15,
     "metadata": {},
     "output_type": "execute_result"
    }
   ],
   "source": [
    "min(list2)"
   ]
  },
  {
   "cell_type": "code",
   "execution_count": 16,
   "id": "f2780ec9-70f0-438d-aaf9-41ff4d842d1b",
   "metadata": {},
   "outputs": [
    {
     "data": {
      "text/plain": [
       "12"
      ]
     },
     "execution_count": 16,
     "metadata": {},
     "output_type": "execute_result"
    }
   ],
   "source": [
    "max(list2)"
   ]
  },
  {
   "cell_type": "code",
   "execution_count": 17,
   "id": "81a08b8d-d1a6-401a-acca-53ace21e09df",
   "metadata": {},
   "outputs": [],
   "source": [
    "list3 = [\"a\", \"b\", \"c\"]"
   ]
  },
  {
   "cell_type": "code",
   "execution_count": 18,
   "id": "1fb1bb91-d843-4ffe-b559-b4a951be57b2",
   "metadata": {},
   "outputs": [
    {
     "data": {
      "text/plain": [
       "'a'"
      ]
     },
     "execution_count": 18,
     "metadata": {},
     "output_type": "execute_result"
    }
   ],
   "source": [
    "min(list3)"
   ]
  },
  {
   "cell_type": "code",
   "execution_count": 19,
   "id": "dc60fdec-ae29-48fe-8124-f53ffe876ffe",
   "metadata": {},
   "outputs": [
    {
     "data": {
      "text/plain": [
       "'c'"
      ]
     },
     "execution_count": 19,
     "metadata": {},
     "output_type": "execute_result"
    }
   ],
   "source": [
    "max(list3)"
   ]
  },
  {
   "cell_type": "code",
   "execution_count": 20,
   "id": "73063310-baee-46e3-87f0-a9a06d52b550",
   "metadata": {},
   "outputs": [
    {
     "ename": "TypeError",
     "evalue": "'>' not supported between instances of 'int' and 'str'",
     "output_type": "error",
     "traceback": [
      "\u001b[0;31m---------------------------------------------------------------------------\u001b[0m",
      "\u001b[0;31mTypeError\u001b[0m                                 Traceback (most recent call last)",
      "\u001b[0;32m<ipython-input-20-8bec3f7aab0d>\u001b[0m in \u001b[0;36m<module>\u001b[0;34m\u001b[0m\n\u001b[0;32m----> 1\u001b[0;31m \u001b[0mmax\u001b[0m\u001b[0;34m(\u001b[0m\u001b[0mlist1\u001b[0m\u001b[0;34m)\u001b[0m\u001b[0;34m\u001b[0m\u001b[0;34m\u001b[0m\u001b[0m\n\u001b[0m",
      "\u001b[0;31mTypeError\u001b[0m: '>' not supported between instances of 'int' and 'str'"
     ]
    }
   ],
   "source": [
    "max(list1)"
   ]
  },
  {
   "cell_type": "code",
   "execution_count": 21,
   "id": "586fc6ef-4f24-4954-8546-800e07cb9191",
   "metadata": {},
   "outputs": [],
   "source": [
    "list1.append(100)"
   ]
  },
  {
   "cell_type": "code",
   "execution_count": 22,
   "id": "eafc2e5e-fbd3-4428-bd1f-a9c6b5881b72",
   "metadata": {},
   "outputs": [
    {
     "data": {
      "text/plain": [
       "['Cisco', 'Juniper', 'HP', 10, 10.5, -11, 100]"
      ]
     },
     "execution_count": 22,
     "metadata": {},
     "output_type": "execute_result"
    }
   ],
   "source": [
    "list1"
   ]
  },
  {
   "cell_type": "code",
   "execution_count": 23,
   "id": "06451ed1-90d7-4b7e-b44e-2b01132a8d56",
   "metadata": {},
   "outputs": [],
   "source": [
    "del list1[4]"
   ]
  },
  {
   "cell_type": "code",
   "execution_count": 24,
   "id": "69434ffd-daf4-443c-9b1b-504ee665376f",
   "metadata": {},
   "outputs": [
    {
     "data": {
      "text/plain": [
       "['Cisco', 'Juniper', 'HP', 10, -11, 100]"
      ]
     },
     "execution_count": 24,
     "metadata": {},
     "output_type": "execute_result"
    }
   ],
   "source": [
    "list1"
   ]
  },
  {
   "cell_type": "code",
   "execution_count": 25,
   "id": "2663fbce-6861-44a3-a815-737f470b770e",
   "metadata": {},
   "outputs": [
    {
     "data": {
      "text/plain": [
       "'Cisco'"
      ]
     },
     "execution_count": 25,
     "metadata": {},
     "output_type": "execute_result"
    }
   ],
   "source": [
    "list1.pop(0)"
   ]
  },
  {
   "cell_type": "code",
   "execution_count": 26,
   "id": "5260dd73-7682-4eff-8f0f-2a20daaa7b79",
   "metadata": {},
   "outputs": [
    {
     "data": {
      "text/plain": [
       "['Juniper', 'HP', 10, -11, 100]"
      ]
     },
     "execution_count": 26,
     "metadata": {},
     "output_type": "execute_result"
    }
   ],
   "source": [
    "list1"
   ]
  },
  {
   "cell_type": "code",
   "execution_count": 27,
   "id": "a94b2b6a-1c6c-4eb6-ae3b-720ca8aa3535",
   "metadata": {},
   "outputs": [],
   "source": [
    "list1.remove(\"Juniper\")"
   ]
  },
  {
   "cell_type": "code",
   "execution_count": 28,
   "id": "d43c2b63-66e9-447b-b2ed-27fb706e9d71",
   "metadata": {},
   "outputs": [
    {
     "data": {
      "text/plain": [
       "['HP', 10, -11, 100]"
      ]
     },
     "execution_count": 28,
     "metadata": {},
     "output_type": "execute_result"
    }
   ],
   "source": [
    "list1"
   ]
  },
  {
   "cell_type": "code",
   "execution_count": 29,
   "id": "13e51a7f-c68f-4bc2-90ef-165f35a3667f",
   "metadata": {},
   "outputs": [],
   "source": [
    "list1.insert(2, \"Nortel\")"
   ]
  },
  {
   "cell_type": "code",
   "execution_count": 30,
   "id": "7afc2c04-6a0c-4e8a-bde4-f5b6d775fe7b",
   "metadata": {},
   "outputs": [
    {
     "data": {
      "text/plain": [
       "['HP', 10, 'Nortel', -11, 100]"
      ]
     },
     "execution_count": 30,
     "metadata": {},
     "output_type": "execute_result"
    }
   ],
   "source": [
    "list1"
   ]
  },
  {
   "cell_type": "code",
   "execution_count": 31,
   "id": "de586c0a-2700-41db-816e-c863977bf060",
   "metadata": {},
   "outputs": [],
   "source": [
    "# appending a list to a list\n",
    "list2 = [9, 99, 999]"
   ]
  },
  {
   "cell_type": "code",
   "execution_count": 32,
   "id": "f696cf56-43f7-4e93-8164-b8ff3ab997ca",
   "metadata": {},
   "outputs": [
    {
     "data": {
      "text/plain": [
       "['HP', 10, 'Nortel', -11, 100]"
      ]
     },
     "execution_count": 32,
     "metadata": {},
     "output_type": "execute_result"
    }
   ],
   "source": [
    "list1"
   ]
  },
  {
   "cell_type": "code",
   "execution_count": 33,
   "id": "620f7fa0-d326-4cc2-a1a4-0e67d5cb2da4",
   "metadata": {},
   "outputs": [],
   "source": [
    "list1.extend(list2)"
   ]
  },
  {
   "cell_type": "code",
   "execution_count": 34,
   "id": "aa89a2f4-acb2-45d1-a864-86f484ceac46",
   "metadata": {},
   "outputs": [
    {
     "data": {
      "text/plain": [
       "['HP', 10, 'Nortel', -11, 100, 9, 99, 999]"
      ]
     },
     "execution_count": 34,
     "metadata": {},
     "output_type": "execute_result"
    }
   ],
   "source": [
    "list1"
   ]
  },
  {
   "cell_type": "code",
   "execution_count": 35,
   "id": "0619c6e1-037b-43ba-98ad-399cda275ad1",
   "metadata": {},
   "outputs": [
    {
     "data": {
      "text/plain": [
       "3"
      ]
     },
     "execution_count": 35,
     "metadata": {},
     "output_type": "execute_result"
    }
   ],
   "source": [
    "list1.index(-11)"
   ]
  },
  {
   "cell_type": "code",
   "execution_count": 36,
   "id": "cae7ebdf-12e5-491d-b4c7-2a5b34f67a3c",
   "metadata": {},
   "outputs": [],
   "source": [
    "list1.append(10)"
   ]
  },
  {
   "cell_type": "code",
   "execution_count": 37,
   "id": "a4935deb-6923-4061-9343-4f49aacf4f12",
   "metadata": {},
   "outputs": [
    {
     "data": {
      "text/plain": [
       "2"
      ]
     },
     "execution_count": 37,
     "metadata": {},
     "output_type": "execute_result"
    }
   ],
   "source": [
    "list1.count(10)"
   ]
  },
  {
   "cell_type": "code",
   "execution_count": 38,
   "id": "9490755c-e620-4d1c-bd47-55a7d00961ec",
   "metadata": {},
   "outputs": [
    {
     "data": {
      "text/plain": [
       "[9, 99, 999]"
      ]
     },
     "execution_count": 38,
     "metadata": {},
     "output_type": "execute_result"
    }
   ],
   "source": [
    "list2"
   ]
  },
  {
   "cell_type": "code",
   "execution_count": 39,
   "id": "eae4ab6a-a206-4e6b-8342-adda6dfeb729",
   "metadata": {},
   "outputs": [],
   "source": [
    "list2.append(1)"
   ]
  },
  {
   "cell_type": "code",
   "execution_count": 40,
   "id": "001bc5ae-7720-40ac-afb8-28d291563200",
   "metadata": {},
   "outputs": [],
   "source": [
    "list2.append(25)"
   ]
  },
  {
   "cell_type": "code",
   "execution_count": 41,
   "id": "42080a82-397b-4e8d-8312-5bd63bbdcfeb",
   "metadata": {},
   "outputs": [],
   "source": [
    "list2.append(500)"
   ]
  },
  {
   "cell_type": "code",
   "execution_count": 42,
   "id": "54c21d52-a580-425e-97cf-dbf71625ecc1",
   "metadata": {},
   "outputs": [
    {
     "data": {
      "text/plain": [
       "[9, 99, 999, 1, 25, 500]"
      ]
     },
     "execution_count": 42,
     "metadata": {},
     "output_type": "execute_result"
    }
   ],
   "source": [
    "list2"
   ]
  },
  {
   "cell_type": "code",
   "execution_count": 43,
   "id": "c257ed56-e8e8-44ac-a7a9-c337224fded6",
   "metadata": {},
   "outputs": [],
   "source": [
    "list2.sort()"
   ]
  },
  {
   "cell_type": "code",
   "execution_count": 44,
   "id": "f0141469-434b-4edb-ab35-d77fd9dca194",
   "metadata": {},
   "outputs": [
    {
     "data": {
      "text/plain": [
       "[1, 9, 25, 99, 500, 999]"
      ]
     },
     "execution_count": 44,
     "metadata": {},
     "output_type": "execute_result"
    }
   ],
   "source": [
    "list2"
   ]
  },
  {
   "cell_type": "code",
   "execution_count": 45,
   "id": "e52590b1-1b56-4f42-9caa-a94bb78725d5",
   "metadata": {},
   "outputs": [],
   "source": [
    "list2.reverse()"
   ]
  },
  {
   "cell_type": "code",
   "execution_count": 46,
   "id": "0032afc9-b9c4-43d3-a612-cbb9426fce68",
   "metadata": {},
   "outputs": [
    {
     "data": {
      "text/plain": [
       "[999, 500, 99, 25, 9, 1]"
      ]
     },
     "execution_count": 46,
     "metadata": {},
     "output_type": "execute_result"
    }
   ],
   "source": [
    "list2"
   ]
  },
  {
   "cell_type": "code",
   "execution_count": 47,
   "id": "ea87d94a-c506-48cd-b019-c7609d55b205",
   "metadata": {},
   "outputs": [
    {
     "data": {
      "text/plain": [
       "[1, 9, 25, 99, 500, 999]"
      ]
     },
     "execution_count": 47,
     "metadata": {},
     "output_type": "execute_result"
    }
   ],
   "source": [
    "sorted(list2)"
   ]
  },
  {
   "cell_type": "code",
   "execution_count": 48,
   "id": "b7867d52-f4be-4d9d-97ab-22ba2eabad29",
   "metadata": {},
   "outputs": [
    {
     "data": {
      "text/plain": [
       "[999, 500, 99, 25, 9, 1]"
      ]
     },
     "execution_count": 48,
     "metadata": {},
     "output_type": "execute_result"
    }
   ],
   "source": [
    "sorted(list2, reverse = True)"
   ]
  },
  {
   "cell_type": "code",
   "execution_count": 49,
   "id": "6036769d-ac28-486b-80e2-8b2f46dfb3e0",
   "metadata": {},
   "outputs": [
    {
     "data": {
      "text/plain": [
       "['HP', 10, 'Nortel', -11, 100, 9, 99, 999, 10, 999, 500, 99, 25, 9, 1]"
      ]
     },
     "execution_count": 49,
     "metadata": {},
     "output_type": "execute_result"
    }
   ],
   "source": [
    "list1 + list2"
   ]
  },
  {
   "cell_type": "code",
   "execution_count": 50,
   "id": "7e1ef2f1-8264-45dd-8158-4999fdbaa4e0",
   "metadata": {},
   "outputs": [
    {
     "data": {
      "text/plain": [
       "[999, 500, 99, 25, 9, 1, 999, 500, 99, 25, 9, 1, 999, 500, 99, 25, 9, 1]"
      ]
     },
     "execution_count": 50,
     "metadata": {},
     "output_type": "execute_result"
    }
   ],
   "source": [
    "list2 * 3"
   ]
  },
  {
   "cell_type": "markdown",
   "id": "f3a81da8-c361-4ac2-a49f-957ebc952efb",
   "metadata": {},
   "source": [
    "### Lists - Slices"
   ]
  },
  {
   "cell_type": "code",
   "execution_count": 51,
   "id": "d89c3f2d-a953-44f6-9d87-1d00fbdd9eb6",
   "metadata": {},
   "outputs": [],
   "source": [
    "list3 = [1, 2, 3, \"a\", \"b\", \"c\"]"
   ]
  },
  {
   "cell_type": "code",
   "execution_count": 52,
   "id": "bc7e5c8a-6f9f-480f-aaef-a76f97ec7819",
   "metadata": {},
   "outputs": [
    {
     "data": {
      "text/plain": [
       "[1, 2, 3, 'a', 'b', 'c']"
      ]
     },
     "execution_count": 52,
     "metadata": {},
     "output_type": "execute_result"
    }
   ],
   "source": [
    "list3"
   ]
  },
  {
   "cell_type": "code",
   "execution_count": 54,
   "id": "6f7531fb-91ff-4586-8dd0-d7a3173d5ce8",
   "metadata": {},
   "outputs": [
    {
     "data": {
      "text/plain": [
       "[1, 2, 3]"
      ]
     },
     "execution_count": 54,
     "metadata": {},
     "output_type": "execute_result"
    }
   ],
   "source": [
    "list3[0:3]"
   ]
  },
  {
   "cell_type": "code",
   "execution_count": 55,
   "id": "be2c080d-39dd-439d-8080-62125843754a",
   "metadata": {},
   "outputs": [
    {
     "data": {
      "text/plain": [
       "[1, 2, 3]"
      ]
     },
     "execution_count": 55,
     "metadata": {},
     "output_type": "execute_result"
    }
   ],
   "source": [
    "list3[:3]"
   ]
  },
  {
   "cell_type": "code",
   "execution_count": 56,
   "id": "e494a218-7c81-48b9-8c23-21dff4b52e3c",
   "metadata": {},
   "outputs": [
    {
     "data": {
      "text/plain": [
       "[3, 'a', 'b']"
      ]
     },
     "execution_count": 56,
     "metadata": {},
     "output_type": "execute_result"
    }
   ],
   "source": [
    "list3[2:5]"
   ]
  },
  {
   "cell_type": "code",
   "execution_count": 57,
   "id": "0bc99312-4811-45b1-a8ae-86b2b2a05de3",
   "metadata": {},
   "outputs": [
    {
     "data": {
      "text/plain": [
       "[3, 'a', 'b', 'c']"
      ]
     },
     "execution_count": 57,
     "metadata": {},
     "output_type": "execute_result"
    }
   ],
   "source": [
    "list3[2:]"
   ]
  },
  {
   "cell_type": "code",
   "execution_count": 58,
   "id": "bc9b8d66-56c3-40cc-8bea-f02253a4f038",
   "metadata": {},
   "outputs": [
    {
     "data": {
      "text/plain": [
       "[1, 2, 3, 'a', 'b', 'c']"
      ]
     },
     "execution_count": 58,
     "metadata": {},
     "output_type": "execute_result"
    }
   ],
   "source": [
    "list3[:]"
   ]
  },
  {
   "cell_type": "code",
   "execution_count": 59,
   "id": "c5a88176-9ac2-499b-a2bb-0cd85ce7d730",
   "metadata": {},
   "outputs": [
    {
     "data": {
      "text/plain": [
       "'c'"
      ]
     },
     "execution_count": 59,
     "metadata": {},
     "output_type": "execute_result"
    }
   ],
   "source": [
    "list3[-1]"
   ]
  },
  {
   "cell_type": "code",
   "execution_count": 60,
   "id": "b60bde04-1f79-4df1-9772-2b5e5d90f9f9",
   "metadata": {},
   "outputs": [
    {
     "data": {
      "text/plain": [
       "'b'"
      ]
     },
     "execution_count": 60,
     "metadata": {},
     "output_type": "execute_result"
    }
   ],
   "source": [
    "list3[-2]"
   ]
  },
  {
   "cell_type": "code",
   "execution_count": 61,
   "id": "37536d9e-f530-46e2-b455-16c5e554f5b8",
   "metadata": {},
   "outputs": [
    {
     "data": {
      "text/plain": [
       "[3, 'a', 'b']"
      ]
     },
     "execution_count": 61,
     "metadata": {},
     "output_type": "execute_result"
    }
   ],
   "source": [
    "list3[-4:-1]"
   ]
  },
  {
   "cell_type": "code",
   "execution_count": 62,
   "id": "da1c3d69-eb43-45e2-8865-b6c17c3d86dd",
   "metadata": {},
   "outputs": [
    {
     "data": {
      "text/plain": [
       "['a', 'b', 'c']"
      ]
     },
     "execution_count": 62,
     "metadata": {},
     "output_type": "execute_result"
    }
   ],
   "source": [
    "list3[-3:]"
   ]
  },
  {
   "cell_type": "code",
   "execution_count": 63,
   "id": "ecb832ff-285c-469c-a121-1d125988df04",
   "metadata": {},
   "outputs": [
    {
     "data": {
      "text/plain": [
       "[1, 2, 3]"
      ]
     },
     "execution_count": 63,
     "metadata": {},
     "output_type": "execute_result"
    }
   ],
   "source": [
    "list3[:-3]"
   ]
  },
  {
   "cell_type": "code",
   "execution_count": 64,
   "id": "094e6627-d861-4482-88ff-95adda2caf63",
   "metadata": {},
   "outputs": [
    {
     "data": {
      "text/plain": [
       "[1, 3, 'b']"
      ]
     },
     "execution_count": 64,
     "metadata": {},
     "output_type": "execute_result"
    }
   ],
   "source": [
    "list3[::2]"
   ]
  },
  {
   "cell_type": "code",
   "execution_count": 65,
   "id": "e494e509-1eb2-4122-b287-e9d3c2768b33",
   "metadata": {},
   "outputs": [
    {
     "data": {
      "text/plain": [
       "['c', 'b', 'a', 3, 2, 1]"
      ]
     },
     "execution_count": 65,
     "metadata": {},
     "output_type": "execute_result"
    }
   ],
   "source": [
    "list3[::-1]"
   ]
  },
  {
   "cell_type": "code",
   "execution_count": null,
   "id": "06ee1fa4-8de3-45bc-b8dd-abcbc4697f07",
   "metadata": {},
   "outputs": [],
   "source": []
  }
 ],
 "metadata": {
  "kernelspec": {
   "display_name": "Python 3",
   "language": "python",
   "name": "python3"
  },
  "language_info": {
   "codemirror_mode": {
    "name": "ipython",
    "version": 3
   },
   "file_extension": ".py",
   "mimetype": "text/x-python",
   "name": "python",
   "nbconvert_exporter": "python",
   "pygments_lexer": "ipython3",
   "version": "3.8.8"
  }
 },
 "nbformat": 4,
 "nbformat_minor": 5
}
