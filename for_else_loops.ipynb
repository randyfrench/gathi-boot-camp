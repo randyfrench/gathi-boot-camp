{
 "cells": [
  {
   "cell_type": "markdown",
   "id": "dd2c130a-0cba-4539-bd01-9bdd2776e4ff",
   "metadata": {},
   "source": [
    "## For / For-Else Loops"
   ]
  },
  {
   "cell_type": "code",
   "execution_count": 1,
   "id": "1474a0c7-29cc-4fdc-82d0-328cf052996b",
   "metadata": {},
   "outputs": [],
   "source": [
    "vendors = [\"Cisco\", \"HP\", \"Nortel\", \"Avaya\", \"Juniper\"]"
   ]
  },
  {
   "cell_type": "code",
   "execution_count": 8,
   "id": "b410d490-987b-4833-bf72-e5d474aea3d3",
   "metadata": {},
   "outputs": [
    {
     "name": "stdout",
     "output_type": "stream",
     "text": [
      "Cisco\n",
      "HP\n",
      "Nortel\n",
      "Avaya\n",
      "Juniper\n"
     ]
    }
   ],
   "source": [
    "for each_vendor in vendors:\n",
    "    print(each_vendor)"
   ]
  },
  {
   "cell_type": "code",
   "execution_count": 10,
   "id": "f4ea6a49-149f-493b-b113-643c20c67ffd",
   "metadata": {},
   "outputs": [],
   "source": [
    "my_string = \"Cisco\""
   ]
  },
  {
   "cell_type": "code",
   "execution_count": 11,
   "id": "f6f5f243-92cb-4963-ae34-03c0a8e8846e",
   "metadata": {},
   "outputs": [
    {
     "name": "stdout",
     "output_type": "stream",
     "text": [
      "C\n",
      "CC\n",
      "CCC\n",
      "i\n",
      "ii\n",
      "iii\n",
      "s\n",
      "ss\n",
      "sss\n",
      "c\n",
      "cc\n",
      "ccc\n",
      "o\n",
      "oo\n",
      "ooo\n"
     ]
    }
   ],
   "source": [
    "for letter in my_string:\n",
    "    print(letter)\n",
    "    print(letter * 2)\n",
    "    print(letter * 3)"
   ]
  },
  {
   "cell_type": "code",
   "execution_count": 12,
   "id": "a67259b2-1329-416b-8a7a-04f0bf383666",
   "metadata": {},
   "outputs": [],
   "source": [
    "r = range(10)"
   ]
  },
  {
   "cell_type": "code",
   "execution_count": 13,
   "id": "0cc7b03e-7e3c-4bb7-a117-62baad457594",
   "metadata": {},
   "outputs": [
    {
     "name": "stdout",
     "output_type": "stream",
     "text": [
      "0\n",
      "2\n",
      "4\n",
      "6\n",
      "8\n",
      "10\n",
      "12\n",
      "14\n",
      "16\n",
      "18\n"
     ]
    }
   ],
   "source": [
    "for i in r:\n",
    "    print(i * 2)"
   ]
  },
  {
   "cell_type": "code",
   "execution_count": 14,
   "id": "483474b7-b7f9-40d6-8da1-848cf11ec37d",
   "metadata": {},
   "outputs": [],
   "source": [
    "vendors = [\"Cisco\", \"HP\", \"Nortel\", \"Avaya\", \"Juniper\"]"
   ]
  },
  {
   "cell_type": "code",
   "execution_count": 15,
   "id": "48d841d3-6e6c-4675-b359-d41b5818715c",
   "metadata": {},
   "outputs": [
    {
     "data": {
      "text/plain": [
       "5"
      ]
     },
     "execution_count": 15,
     "metadata": {},
     "output_type": "execute_result"
    }
   ],
   "source": [
    "len(vendors)"
   ]
  },
  {
   "cell_type": "code",
   "execution_count": 16,
   "id": "74916e06-5bf0-44a1-ad83-a7dbb72fbadb",
   "metadata": {},
   "outputs": [
    {
     "data": {
      "text/plain": [
       "[0, 1, 2, 3, 4]"
      ]
     },
     "execution_count": 16,
     "metadata": {},
     "output_type": "execute_result"
    }
   ],
   "source": [
    "list(range(5))"
   ]
  },
  {
   "cell_type": "code",
   "execution_count": 17,
   "id": "66b89abc-106d-4611-805d-ab00849990bd",
   "metadata": {},
   "outputs": [
    {
     "name": "stdout",
     "output_type": "stream",
     "text": [
      "Cisco\n",
      "HP\n",
      "Nortel\n",
      "Avaya\n",
      "Juniper\n"
     ]
    }
   ],
   "source": [
    "for element_index in range(len(vendors)):\n",
    "    print(vendors[element_index])"
   ]
  },
  {
   "cell_type": "code",
   "execution_count": 19,
   "id": "3e25504e-cac2-46fe-a907-4af7a19e1bbd",
   "metadata": {},
   "outputs": [
    {
     "name": "stdout",
     "output_type": "stream",
     "text": [
      "0 Cisco\n",
      "1 HP\n",
      "2 Nortel\n",
      "3 Avaya\n",
      "4 Juniper\n"
     ]
    }
   ],
   "source": [
    "for index, element in enumerate(vendors):\n",
    "    print(index, element)"
   ]
  },
  {
   "cell_type": "code",
   "execution_count": 20,
   "id": "01ddefef-d161-4846-b149-e414eb668ed3",
   "metadata": {},
   "outputs": [
    {
     "name": "stdout",
     "output_type": "stream",
     "text": [
      "Cisco\n",
      "HP\n",
      "Nortel\n",
      "Avaya\n",
      "Juniper\n",
      "The end of the list has been reaced\n"
     ]
    }
   ],
   "source": [
    "for element in vendors:\n",
    "    print(element)\n",
    "else:\n",
    "    print(\"The end of the list has been reaced\")"
   ]
  },
  {
   "cell_type": "code",
   "execution_count": null,
   "id": "da9eda83-af85-4afc-95b1-5c59ec734af4",
   "metadata": {},
   "outputs": [],
   "source": []
  }
 ],
 "metadata": {
  "kernelspec": {
   "display_name": "Python 3",
   "language": "python",
   "name": "python3"
  },
  "language_info": {
   "codemirror_mode": {
    "name": "ipython",
    "version": 3
   },
   "file_extension": ".py",
   "mimetype": "text/x-python",
   "name": "python",
   "nbconvert_exporter": "python",
   "pygments_lexer": "ipython3",
   "version": "3.8.8"
  }
 },
 "nbformat": 4,
 "nbformat_minor": 5
}
