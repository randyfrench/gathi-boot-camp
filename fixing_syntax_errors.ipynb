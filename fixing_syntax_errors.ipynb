{
 "cells": [
  {
   "cell_type": "markdown",
   "id": "19ca947b-f844-4d34-a9b3-2b74640871b6",
   "metadata": {},
   "source": [
    "## Fixing Syntax Errors"
   ]
  },
  {
   "cell_type": "code",
   "execution_count": 1,
   "id": "ad7d0d42-b951-46d3-9191-9ab35b2ca8b4",
   "metadata": {},
   "outputs": [],
   "source": [
    "myvar = [1, 2, 3]"
   ]
  },
  {
   "cell_type": "code",
   "execution_count": 7,
   "id": "ed3ebecf-462c-4848-93e0-7d96db381fb8",
   "metadata": {},
   "outputs": [
    {
     "ename": "SyntaxError",
     "evalue": "Missing parentheses in call to 'print'. Did you mean print(myvar)? (<ipython-input-7-44b138f08bd0>, line 1)",
     "output_type": "error",
     "traceback": [
      "\u001b[0;36m  File \u001b[0;32m\"<ipython-input-7-44b138f08bd0>\"\u001b[0;36m, line \u001b[0;32m1\u001b[0m\n\u001b[0;31m    print myvar\u001b[0m\n\u001b[0m          ^\u001b[0m\n\u001b[0;31mSyntaxError\u001b[0m\u001b[0;31m:\u001b[0m Missing parentheses in call to 'print'. Did you mean print(myvar)?\n"
     ]
    }
   ],
   "source": [
    "print myvar\n",
    "\n",
    "for i in myvar\n",
    "    print(i * 10)\n",
    "    \n",
    "my int = 10\n",
    "\n",
    "float(myint]"
   ]
  },
  {
   "cell_type": "code",
   "execution_count": 8,
   "id": "5ad0f028-6602-4ff2-8b12-dc2444ec7e1a",
   "metadata": {},
   "outputs": [
    {
     "ename": "SyntaxError",
     "evalue": "invalid syntax (<ipython-input-8-306568508fe5>, line 3)",
     "output_type": "error",
     "traceback": [
      "\u001b[0;36m  File \u001b[0;32m\"<ipython-input-8-306568508fe5>\"\u001b[0;36m, line \u001b[0;32m3\u001b[0m\n\u001b[0;31m    for i in myvar\u001b[0m\n\u001b[0m                  ^\u001b[0m\n\u001b[0;31mSyntaxError\u001b[0m\u001b[0;31m:\u001b[0m invalid syntax\n"
     ]
    }
   ],
   "source": [
    "print (myvar)\n",
    "\n",
    "for i in myvar\n",
    "    print(i * 10)\n",
    "    \n",
    "my int = 10\n",
    "\n",
    "float(myint]"
   ]
  },
  {
   "cell_type": "code",
   "execution_count": 10,
   "id": "a50611d2-f617-44c8-88e8-eabe44d1c0c6",
   "metadata": {},
   "outputs": [
    {
     "ename": "SyntaxError",
     "evalue": "closing parenthesis ']' does not match opening parenthesis '(' (<ipython-input-10-a9cda087372a>, line 8)",
     "output_type": "error",
     "traceback": [
      "\u001b[0;36m  File \u001b[0;32m\"<ipython-input-10-a9cda087372a>\"\u001b[0;36m, line \u001b[0;32m8\u001b[0m\n\u001b[0;31m    float(myint]\u001b[0m\n\u001b[0m               ^\u001b[0m\n\u001b[0;31mSyntaxError\u001b[0m\u001b[0;31m:\u001b[0m closing parenthesis ']' does not match opening parenthesis '('\n"
     ]
    }
   ],
   "source": [
    "print (myvar)\n",
    "\n",
    "for i in myvar:\n",
    "    print(i * 10)\n",
    "    \n",
    "myint = 10\n",
    "\n",
    "float(myint]"
   ]
  },
  {
   "cell_type": "code",
   "execution_count": 11,
   "id": "a4f7f174-f5d2-4f83-b621-a976f29ebe8d",
   "metadata": {},
   "outputs": [
    {
     "name": "stdout",
     "output_type": "stream",
     "text": [
      "[1, 2, 3]\n",
      "10\n",
      "20\n",
      "30\n"
     ]
    },
    {
     "data": {
      "text/plain": [
       "10.0"
      ]
     },
     "execution_count": 11,
     "metadata": {},
     "output_type": "execute_result"
    }
   ],
   "source": [
    "print (myvar)\n",
    "\n",
    "for i in myvar:\n",
    "    print(i * 10)\n",
    "    \n",
    "myint = 10\n",
    "\n",
    "float(myint)"
   ]
  },
  {
   "cell_type": "markdown",
   "id": "ddb63452-a547-46e0-940f-ba078879bd4e",
   "metadata": {},
   "source": [
    "## Fixing Exceptions"
   ]
  },
  {
   "cell_type": "code",
   "execution_count": 13,
   "id": "6efbba34-eab4-44f7-bbfc-97c1556dc433",
   "metadata": {},
   "outputs": [
    {
     "ename": "ImportError",
     "evalue": "cannot import name 'abcdef' from 'sys' (unknown location)",
     "output_type": "error",
     "traceback": [
      "\u001b[0;31m---------------------------------------------------------------------------\u001b[0m",
      "\u001b[0;31mImportError\u001b[0m                               Traceback (most recent call last)",
      "\u001b[0;32m<ipython-input-13-3a28560c2d66>\u001b[0m in \u001b[0;36m<module>\u001b[0;34m\u001b[0m\n\u001b[0;32m----> 1\u001b[0;31m \u001b[0;32mfrom\u001b[0m \u001b[0msys\u001b[0m \u001b[0;32mimport\u001b[0m \u001b[0mabcdef\u001b[0m\u001b[0;34m\u001b[0m\u001b[0;34m\u001b[0m\u001b[0m\n\u001b[0m\u001b[1;32m      2\u001b[0m \u001b[0;34m\u001b[0m\u001b[0m\n\u001b[1;32m      3\u001b[0m \u001b[0;32mimport\u001b[0m \u001b[0mabcdef\u001b[0m\u001b[0;34m\u001b[0m\u001b[0;34m\u001b[0m\u001b[0m\n\u001b[1;32m      4\u001b[0m \u001b[0;34m\u001b[0m\u001b[0m\n\u001b[1;32m      5\u001b[0m \u001b[0mvar1\u001b[0m \u001b[0;34m=\u001b[0m \u001b[0;36m10\u001b[0m\u001b[0;34m\u001b[0m\u001b[0;34m\u001b[0m\u001b[0m\n",
      "\u001b[0;31mImportError\u001b[0m: cannot import name 'abcdef' from 'sys' (unknown location)"
     ]
    }
   ],
   "source": [
    "from sys import abcdef\n",
    "\n",
    "import abcdef\n",
    "\n",
    "var1 = 10\n",
    "var2 = 0\n",
    "\n",
    "r1 = var1 / var2\n",
    "print(r1)\n",
    "\n",
    "r2 = var1 + \"hello\"\n",
    "\n",
    "text = \"Python\"\n",
    "r4 = text[20]\n",
    "\n",
    "while True:\n",
    "    print(\"hi\")"
   ]
  },
  {
   "cell_type": "code",
   "execution_count": 14,
   "id": "c89f73e6-17d5-4202-8172-8aab80df3a94",
   "metadata": {},
   "outputs": [
    {
     "ename": "ModuleNotFoundError",
     "evalue": "No module named 'abcdef'",
     "output_type": "error",
     "traceback": [
      "\u001b[0;31m---------------------------------------------------------------------------\u001b[0m",
      "\u001b[0;31mModuleNotFoundError\u001b[0m                       Traceback (most recent call last)",
      "\u001b[0;32m<ipython-input-14-2d1c192d4528>\u001b[0m in \u001b[0;36m<module>\u001b[0;34m\u001b[0m\n\u001b[1;32m      1\u001b[0m \u001b[0;31m# from sys import abcdef\u001b[0m\u001b[0;34m\u001b[0m\u001b[0;34m\u001b[0m\u001b[0;34m\u001b[0m\u001b[0m\n\u001b[1;32m      2\u001b[0m \u001b[0;34m\u001b[0m\u001b[0m\n\u001b[0;32m----> 3\u001b[0;31m \u001b[0;32mimport\u001b[0m \u001b[0mabcdef\u001b[0m\u001b[0;34m\u001b[0m\u001b[0;34m\u001b[0m\u001b[0m\n\u001b[0m\u001b[1;32m      4\u001b[0m \u001b[0;34m\u001b[0m\u001b[0m\n\u001b[1;32m      5\u001b[0m \u001b[0mvar1\u001b[0m \u001b[0;34m=\u001b[0m \u001b[0;36m10\u001b[0m\u001b[0;34m\u001b[0m\u001b[0;34m\u001b[0m\u001b[0m\n",
      "\u001b[0;31mModuleNotFoundError\u001b[0m: No module named 'abcdef'"
     ]
    }
   ],
   "source": [
    "# from sys import abcdef\n",
    "\n",
    "import abcdef\n",
    "\n",
    "var1 = 10\n",
    "var2 = 0\n",
    "\n",
    "r1 = var1 / var2\n",
    "print(r1)\n",
    "\n",
    "r2 = var1 + \"hello\"\n",
    "\n",
    "text = \"Python\"\n",
    "r4 = text[20]\n",
    "\n",
    "while True:\n",
    "    print(\"hi\")"
   ]
  },
  {
   "cell_type": "code",
   "execution_count": 15,
   "id": "664793e5-86f4-41e2-a58c-d3e8a522a20c",
   "metadata": {},
   "outputs": [
    {
     "ename": "ZeroDivisionError",
     "evalue": "division by zero",
     "output_type": "error",
     "traceback": [
      "\u001b[0;31m---------------------------------------------------------------------------\u001b[0m",
      "\u001b[0;31mZeroDivisionError\u001b[0m                         Traceback (most recent call last)",
      "\u001b[0;32m<ipython-input-15-b7430fe3468b>\u001b[0m in \u001b[0;36m<module>\u001b[0;34m\u001b[0m\n\u001b[1;32m      6\u001b[0m \u001b[0mvar2\u001b[0m \u001b[0;34m=\u001b[0m \u001b[0;36m0\u001b[0m\u001b[0;34m\u001b[0m\u001b[0;34m\u001b[0m\u001b[0m\n\u001b[1;32m      7\u001b[0m \u001b[0;34m\u001b[0m\u001b[0m\n\u001b[0;32m----> 8\u001b[0;31m \u001b[0mr1\u001b[0m \u001b[0;34m=\u001b[0m \u001b[0mvar1\u001b[0m \u001b[0;34m/\u001b[0m \u001b[0mvar2\u001b[0m\u001b[0;34m\u001b[0m\u001b[0;34m\u001b[0m\u001b[0m\n\u001b[0m\u001b[1;32m      9\u001b[0m \u001b[0mprint\u001b[0m\u001b[0;34m(\u001b[0m\u001b[0mr1\u001b[0m\u001b[0;34m)\u001b[0m\u001b[0;34m\u001b[0m\u001b[0;34m\u001b[0m\u001b[0m\n\u001b[1;32m     10\u001b[0m \u001b[0;34m\u001b[0m\u001b[0m\n",
      "\u001b[0;31mZeroDivisionError\u001b[0m: division by zero"
     ]
    }
   ],
   "source": [
    "# from sys import abcdef\n",
    "\n",
    "# import abcdef\n",
    "\n",
    "var1 = 10\n",
    "var2 = 0\n",
    "\n",
    "r1 = var1 / var2\n",
    "print(r1)\n",
    "\n",
    "r2 = var1 + \"hello\"\n",
    "\n",
    "text = \"Python\"\n",
    "r4 = text[20]\n",
    "\n",
    "while True:\n",
    "    print(\"hi\")"
   ]
  },
  {
   "cell_type": "code",
   "execution_count": 16,
   "id": "2788ae0b-13e7-4f8e-867f-d3bc21ae4895",
   "metadata": {},
   "outputs": [
    {
     "ename": "NameError",
     "evalue": "name 'r1' is not defined",
     "output_type": "error",
     "traceback": [
      "\u001b[0;31m---------------------------------------------------------------------------\u001b[0m",
      "\u001b[0;31mNameError\u001b[0m                                 Traceback (most recent call last)",
      "\u001b[0;32m<ipython-input-16-fed4e63fbb75>\u001b[0m in \u001b[0;36m<module>\u001b[0;34m\u001b[0m\n\u001b[1;32m      7\u001b[0m \u001b[0;34m\u001b[0m\u001b[0m\n\u001b[1;32m      8\u001b[0m \u001b[0;31m# r1 = var1 / var2\u001b[0m\u001b[0;34m\u001b[0m\u001b[0;34m\u001b[0m\u001b[0;34m\u001b[0m\u001b[0m\n\u001b[0;32m----> 9\u001b[0;31m \u001b[0mprint\u001b[0m\u001b[0;34m(\u001b[0m\u001b[0mr1\u001b[0m\u001b[0;34m)\u001b[0m\u001b[0;34m\u001b[0m\u001b[0;34m\u001b[0m\u001b[0m\n\u001b[0m\u001b[1;32m     10\u001b[0m \u001b[0;34m\u001b[0m\u001b[0m\n\u001b[1;32m     11\u001b[0m \u001b[0mr2\u001b[0m \u001b[0;34m=\u001b[0m \u001b[0mvar1\u001b[0m \u001b[0;34m+\u001b[0m \u001b[0;34m\"hello\"\u001b[0m\u001b[0;34m\u001b[0m\u001b[0;34m\u001b[0m\u001b[0m\n",
      "\u001b[0;31mNameError\u001b[0m: name 'r1' is not defined"
     ]
    }
   ],
   "source": [
    "# from sys import abcdef\n",
    "\n",
    "# import abcdef\n",
    "\n",
    "var1 = 10\n",
    "var2 = 0\n",
    "\n",
    "# r1 = var1 / var2\n",
    "print(r1)\n",
    "\n",
    "r2 = var1 + \"hello\"\n",
    "\n",
    "text = \"Python\"\n",
    "r4 = text[20]\n",
    "\n",
    "while True:\n",
    "    print(\"hi\")"
   ]
  },
  {
   "cell_type": "code",
   "execution_count": 17,
   "id": "dbd9d392-4681-45b1-9bc9-5ebc30f57486",
   "metadata": {},
   "outputs": [
    {
     "ename": "TypeError",
     "evalue": "unsupported operand type(s) for +: 'int' and 'str'",
     "output_type": "error",
     "traceback": [
      "\u001b[0;31m---------------------------------------------------------------------------\u001b[0m",
      "\u001b[0;31mTypeError\u001b[0m                                 Traceback (most recent call last)",
      "\u001b[0;32m<ipython-input-17-882fae3ea333>\u001b[0m in \u001b[0;36m<module>\u001b[0;34m\u001b[0m\n\u001b[1;32m      9\u001b[0m \u001b[0;31m# print(r1)\u001b[0m\u001b[0;34m\u001b[0m\u001b[0;34m\u001b[0m\u001b[0;34m\u001b[0m\u001b[0m\n\u001b[1;32m     10\u001b[0m \u001b[0;34m\u001b[0m\u001b[0m\n\u001b[0;32m---> 11\u001b[0;31m \u001b[0mr2\u001b[0m \u001b[0;34m=\u001b[0m \u001b[0mvar1\u001b[0m \u001b[0;34m+\u001b[0m \u001b[0;34m\"hello\"\u001b[0m\u001b[0;34m\u001b[0m\u001b[0;34m\u001b[0m\u001b[0m\n\u001b[0m\u001b[1;32m     12\u001b[0m \u001b[0;34m\u001b[0m\u001b[0m\n\u001b[1;32m     13\u001b[0m \u001b[0mtext\u001b[0m \u001b[0;34m=\u001b[0m \u001b[0;34m\"Python\"\u001b[0m\u001b[0;34m\u001b[0m\u001b[0;34m\u001b[0m\u001b[0m\n",
      "\u001b[0;31mTypeError\u001b[0m: unsupported operand type(s) for +: 'int' and 'str'"
     ]
    }
   ],
   "source": [
    "# from sys import abcdef\n",
    "\n",
    "# import abcdef\n",
    "\n",
    "var1 = 10\n",
    "var2 = 0\n",
    "\n",
    "# r1 = var1 / var2\n",
    "# print(r1)\n",
    "\n",
    "r2 = var1 + \"hello\"\n",
    "\n",
    "text = \"Python\"\n",
    "r4 = text[20]\n",
    "\n",
    "while True:\n",
    "    print(\"hi\")"
   ]
  },
  {
   "cell_type": "code",
   "execution_count": 18,
   "id": "27b170aa-73e9-49f1-8083-1a620a43478d",
   "metadata": {},
   "outputs": [
    {
     "ename": "IndexError",
     "evalue": "string index out of range",
     "output_type": "error",
     "traceback": [
      "\u001b[0;31m---------------------------------------------------------------------------\u001b[0m",
      "\u001b[0;31mIndexError\u001b[0m                                Traceback (most recent call last)",
      "\u001b[0;32m<ipython-input-18-eb07092d7318>\u001b[0m in \u001b[0;36m<module>\u001b[0;34m\u001b[0m\n\u001b[1;32m     12\u001b[0m \u001b[0;34m\u001b[0m\u001b[0m\n\u001b[1;32m     13\u001b[0m \u001b[0mtext\u001b[0m \u001b[0;34m=\u001b[0m \u001b[0;34m\"Python\"\u001b[0m\u001b[0;34m\u001b[0m\u001b[0;34m\u001b[0m\u001b[0m\n\u001b[0;32m---> 14\u001b[0;31m \u001b[0mr4\u001b[0m \u001b[0;34m=\u001b[0m \u001b[0mtext\u001b[0m\u001b[0;34m[\u001b[0m\u001b[0;36m20\u001b[0m\u001b[0;34m]\u001b[0m\u001b[0;34m\u001b[0m\u001b[0;34m\u001b[0m\u001b[0m\n\u001b[0m\u001b[1;32m     15\u001b[0m \u001b[0;34m\u001b[0m\u001b[0m\n\u001b[1;32m     16\u001b[0m \u001b[0;32mwhile\u001b[0m \u001b[0;32mTrue\u001b[0m\u001b[0;34m:\u001b[0m\u001b[0;34m\u001b[0m\u001b[0;34m\u001b[0m\u001b[0m\n",
      "\u001b[0;31mIndexError\u001b[0m: string index out of range"
     ]
    }
   ],
   "source": [
    "# from sys import abcdef\n",
    "\n",
    "# import abcdef\n",
    "\n",
    "var1 = 10\n",
    "var2 = 0\n",
    "\n",
    "# r1 = var1 / var2\n",
    "# print(r1)\n",
    "\n",
    "# r2 = var1 + \"hello\"\n",
    "\n",
    "text = \"Python\"\n",
    "r4 = text[20]\n",
    "\n",
    "while True:\n",
    "    print(\"hi\")"
   ]
  },
  {
   "cell_type": "code",
   "execution_count": 19,
   "id": "56f3c9f4-1d21-4429-8e27-1b30527a6f60",
   "metadata": {},
   "outputs": [],
   "source": [
    "# from sys import abcdef\n",
    "\n",
    "# import abcdef\n",
    "\n",
    "var1 = 10\n",
    "var2 = 0\n",
    "\n",
    "# r1 = var1 / var2\n",
    "# print(r1)\n",
    "\n",
    "# r2 = var1 + \"hello\"\n",
    "\n",
    "text = \"Python\"\n",
    "# r4 = text[20]\n",
    "# below creates it to print out indefinatly, will not run it\n",
    "# while True:\n",
    "#    print(\"hi\")"
   ]
  },
  {
   "cell_type": "markdown",
   "id": "06711b89-2c24-4c45-8144-a113a7b6ddc4",
   "metadata": {},
   "source": [
    "- put you error message in an internet search for solutions if you are not able to fiture it out"
   ]
  },
  {
   "cell_type": "code",
   "execution_count": 23,
   "id": "d5c52e65-03d8-4889-85b2-690d9e94e56c",
   "metadata": {},
   "outputs": [
    {
     "ename": "ValueError",
     "evalue": "invalid literal for int() with base 10: 'Hello P'",
     "output_type": "error",
     "traceback": [
      "\u001b[0;31m---------------------------------------------------------------------------\u001b[0m",
      "\u001b[0;31mValueError\u001b[0m                                Traceback (most recent call last)",
      "\u001b[0;32m<ipython-input-23-2acadaed2f8a>\u001b[0m in \u001b[0;36m<module>\u001b[0;34m\u001b[0m\n\u001b[1;32m      1\u001b[0m \u001b[0mmystr\u001b[0m \u001b[0;34m=\u001b[0m \u001b[0;34m\"Hello P\"\u001b[0m\u001b[0;34m\u001b[0m\u001b[0;34m\u001b[0m\u001b[0m\n\u001b[0;32m----> 2\u001b[0;31m \u001b[0mint\u001b[0m\u001b[0;34m(\u001b[0m\u001b[0mmystr\u001b[0m\u001b[0;34m)\u001b[0m\u001b[0;34m\u001b[0m\u001b[0;34m\u001b[0m\u001b[0m\n\u001b[0m",
      "\u001b[0;31mValueError\u001b[0m: invalid literal for int() with base 10: 'Hello P'"
     ]
    }
   ],
   "source": [
    "mystr = \"Hello P\"\n",
    "int(mystr)"
   ]
  },
  {
   "cell_type": "code",
   "execution_count": null,
   "id": "54d1eafc-f5d7-4af1-8200-23b125f34eaa",
   "metadata": {},
   "outputs": [],
   "source": []
  }
 ],
 "metadata": {
  "kernelspec": {
   "display_name": "Python 3",
   "language": "python",
   "name": "python3"
  },
  "language_info": {
   "codemirror_mode": {
    "name": "ipython",
    "version": 3
   },
   "file_extension": ".py",
   "mimetype": "text/x-python",
   "name": "python",
   "nbconvert_exporter": "python",
   "pygments_lexer": "ipython3",
   "version": "3.8.8"
  }
 },
 "nbformat": 4,
 "nbformat_minor": 5
}
